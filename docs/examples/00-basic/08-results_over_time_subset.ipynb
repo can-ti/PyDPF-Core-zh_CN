{
 "cells": [
  {
   "cell_type": "markdown",
   "metadata": {},
   "source": [
    "# Scope results over custom time domains {#ref_results_over_time}\r\n",
    "\r\n",
    "The `Result <ansys.dpf.core.results.Result>`{.interpreted-text\r\n",
    "role=\"class\"} class, which are instances created by the\r\n",
    "`Model <ansys.dpf.core.model.Model>`{.interpreted-text role=\"class\"},\r\n",
    "give access to helpers for requesting results on specific mesh and time\r\n",
    "scopings. With these helpers, working on a temporal subset of the model\r\n",
    "is straightforward. In this example, different ways to choose the\r\n",
    "temporal subset to evaluate a result are exposed. This example can be\r\n",
    "extended to frequency subsets.\r\n"
   ]
  },
  {
   "cell_type": "code",
   "execution_count": 1,
   "metadata": {
    "collapsed": false,
    "execution": {
     "iopub.execute_input": "2024-05-19T03:58:43.521896Z",
     "iopub.status.busy": "2024-05-19T03:58:43.521896Z",
     "iopub.status.idle": "2024-05-19T03:58:44.763513Z",
     "shell.execute_reply": "2024-05-19T03:58:44.763513Z"
    }
   },
   "outputs": [],
   "source": [
    "# Import necessary modules\n",
    "from ansys.dpf import core as dpf\n",
    "from ansys.dpf.core import examples"
   ]
  },
  {
   "cell_type": "markdown",
   "metadata": {},
   "source": [
    "Create a model object to establish a connection with an example result\r\n",
    "file:\r\n"
   ]
  },
  {
   "cell_type": "code",
   "execution_count": 2,
   "metadata": {
    "collapsed": false,
    "execution": {
     "iopub.execute_input": "2024-05-19T03:58:44.763513Z",
     "iopub.status.busy": "2024-05-19T03:58:44.763513Z",
     "iopub.status.idle": "2024-05-19T03:58:44.908973Z",
     "shell.execute_reply": "2024-05-19T03:58:44.908238Z"
    }
   },
   "outputs": [
    {
     "name": "stdout",
     "output_type": "stream",
     "text": [
      "DPF Model\n",
      "------------------------------\n",
      "Static analysis\n",
      "Unit system: MKS: m, kg, N, s, V, A, degC\n",
      "Physics Type: Mechanical\n",
      "Available results:\n",
      "     -  displacement: Nodal Displacement\n",
      "     -  reaction_force: Nodal Force   \n",
      "     -  element_nodal_forces: ElementalNodal Element nodal Forces\n",
      "     -  stress: ElementalNodal Stress \n",
      "     -  elemental_volume: Elemental Volume\n",
      "     -  stiffness_matrix_energy: Elemental Energy-stiffness matrix\n",
      "     -  artificial_hourglass_energy: Elemental Hourglass Energy\n",
      "     -  thermal_dissipation_energy: Elemental thermal dissipation energy\n",
      "     -  kinetic_energy: Elemental Kinetic Energy\n",
      "     -  co_energy: Elemental co-energy\n",
      "     -  incremental_energy: Elemental incremental energy\n",
      "     -  elastic_strain: ElementalNodal Strain\n",
      "     -  thermal_strain: ElementalNodal Thermal Strains\n",
      "     -  thermal_strains_eqv: ElementalNodal Thermal Strains eqv\n",
      "     -  swelling_strains: ElementalNodal Swelling Strains\n",
      "     -  structural_temperature: ElementalNodal Temperature\n",
      "------------------------------\n",
      "DPF  Meshed Region: \n",
      "  3820 nodes \n",
      "  789 elements \n",
      "  Unit: m \n",
      "  With solid (3D) elements, shell (2D) elements, shell (3D) elements\n",
      "------------------------------\n",
      "DPF  Time/Freq Support: \n",
      "  Number of sets: 35 \n",
      "Cumulative     Time (s)       LoadStep       Substep         \n",
      "1              0.000000       1              1               \n",
      "2              0.019975       1              2               \n",
      "3              0.039975       1              3               \n",
      "4              0.059975       1              4               \n",
      "5              0.079975       1              5               \n",
      "6              0.099975       1              6               \n",
      "7              0.119975       1              7               \n",
      "8              0.139975       1              8               \n",
      "9              0.159975       1              9               \n",
      "10             0.179975       1              10              \n",
      "11             0.199975       1              11              \n",
      "12             0.218975       1              12              \n",
      "13             0.238975       1              13              \n",
      "14             0.258975       1              14              \n",
      "15             0.278975       1              15              \n",
      "16             0.298975       1              16              \n",
      "17             0.318975       1              17              \n",
      "18             0.338975       1              18              \n",
      "19             0.358975       1              19              \n",
      "20             0.378975       1              20              \n",
      "21             0.398975       1              21              \n",
      "22             0.417975       1              22              \n",
      "23             0.437975       1              23              \n",
      "24             0.457975       1              24              \n",
      "25             0.477975       1              25              \n",
      "26             0.497975       1              26              \n",
      "27             0.517975       1              27              \n",
      "28             0.537550       1              28              \n",
      "29             0.557253       1              29              \n",
      "30             0.577118       1              30              \n",
      "31             0.597021       1              31              \n",
      "32             0.616946       1              32              \n",
      "33             0.636833       1              33              \n",
      "34             0.656735       1              34              \n",
      "35             0.676628       1              35              \n",
      "\n"
     ]
    }
   ],
   "source": [
    "model = dpf.Model(examples.download_transient_result())\n",
    "print(model)"
   ]
  },
  {
   "cell_type": "markdown",
   "metadata": {},
   "source": [
    "# Request specific time sets\r\n",
    "\r\n",
    "If specific time sets are of interest, looking into the\r\n",
    "`TimeFreqSupport` and connect a given `time_scoping` accordingly to the\r\n",
    "cumulative indexes can be useful.\r\n"
   ]
  },
  {
   "cell_type": "code",
   "execution_count": 3,
   "metadata": {
    "collapsed": false,
    "execution": {
     "iopub.execute_input": "2024-05-19T03:58:44.910594Z",
     "iopub.status.busy": "2024-05-19T03:58:44.910594Z",
     "iopub.status.idle": "2024-05-19T03:58:44.936052Z",
     "shell.execute_reply": "2024-05-19T03:58:44.936052Z"
    }
   },
   "outputs": [
    {
     "name": "stdout",
     "output_type": "stream",
     "text": [
      "DPF  Time/Freq Support: \n",
      "  Number of sets: 35 \n",
      "Cumulative     Time (s)       LoadStep       Substep         \n",
      "1              0.000000       1              1               \n",
      "2              0.019975       1              2               \n",
      "3              0.039975       1              3               \n",
      "4              0.059975       1              4               \n",
      "5              0.079975       1              5               \n",
      "6              0.099975       1              6               \n",
      "7              0.119975       1              7               \n",
      "8              0.139975       1              8               \n",
      "9              0.159975       1              9               \n",
      "10             0.179975       1              10              \n",
      "11             0.199975       1              11              \n",
      "12             0.218975       1              12              \n",
      "13             0.238975       1              13              \n",
      "14             0.258975       1              14              \n",
      "15             0.278975       1              15              \n",
      "16             0.298975       1              16              \n",
      "17             0.318975       1              17              \n",
      "18             0.338975       1              18              \n",
      "19             0.358975       1              19              \n",
      "20             0.378975       1              20              \n",
      "21             0.398975       1              21              \n",
      "22             0.417975       1              22              \n",
      "23             0.437975       1              23              \n",
      "24             0.457975       1              24              \n",
      "25             0.477975       1              25              \n",
      "26             0.497975       1              26              \n",
      "27             0.517975       1              27              \n",
      "28             0.537550       1              28              \n",
      "29             0.557253       1              29              \n",
      "30             0.577118       1              30              \n",
      "31             0.597021       1              31              \n",
      "32             0.616946       1              32              \n",
      "33             0.636833       1              33              \n",
      "34             0.656735       1              34              \n",
      "35             0.676628       1              35              \n",
      "\n",
      "DPF displacement(s)Fields Container\n",
      "  with 3 field(s)\n",
      "  defined on labels: time \n",
      "\n",
      "  with:\n",
      "  - field 0 {time:  1} with Nodal location, 3 components and 3820 entities.\n",
      "  - field 1 {time:  3} with Nodal location, 3 components and 3820 entities.\n",
      "  - field 2 {time:  10} with Nodal location, 3 components and 3820 entities.\n",
      "\n",
      "DPF displacement(s)Fields Container\n",
      "  with 3 field(s)\n",
      "  defined on labels: time \n",
      "\n",
      "  with:\n",
      "  - field 0 {time:  1} with Nodal location, 3 components and 3820 entities.\n",
      "  - field 1 {time:  3} with Nodal location, 3 components and 3820 entities.\n",
      "  - field 2 {time:  10} with Nodal location, 3 components and 3820 entities.\n",
      "\n"
     ]
    }
   ],
   "source": [
    "print(model.metadata.time_freq_support)\n",
    "\n",
    "time_sets = [1, 3, 10]\n",
    "disp = model.results.displacement.on_time_scoping(time_sets).eval()\n",
    "\n",
    "print(disp)\n",
    "\n",
    "# Or using a scoping\n",
    "time_sets_scoping = dpf.time_freq_scoping_factory.scoping_by_sets([1, 3, 10])\n",
    "disp = model.results.displacement.on_time_scoping(time_sets_scoping).eval()\n",
    "\n",
    "print(disp)"
   ]
  },
  {
   "cell_type": "markdown",
   "metadata": {},
   "source": [
    "Equivalent to:\r\n"
   ]
  },
  {
   "cell_type": "code",
   "execution_count": 4,
   "metadata": {
    "collapsed": false,
    "execution": {
     "iopub.execute_input": "2024-05-19T03:58:44.937129Z",
     "iopub.status.busy": "2024-05-19T03:58:44.937129Z",
     "iopub.status.idle": "2024-05-19T03:58:44.951632Z",
     "shell.execute_reply": "2024-05-19T03:58:44.951632Z"
    }
   },
   "outputs": [],
   "source": [
    "disp_op = model.results.displacement()\n",
    "disp_op.inputs.time_scoping(time_sets)\n",
    "disp = disp_op.outputs.fields_container()"
   ]
  },
  {
   "cell_type": "markdown",
   "metadata": {},
   "source": [
    "Equivalent to:\r\n"
   ]
  },
  {
   "cell_type": "code",
   "execution_count": 5,
   "metadata": {
    "collapsed": false,
    "execution": {
     "iopub.execute_input": "2024-05-19T03:58:44.951632Z",
     "iopub.status.busy": "2024-05-19T03:58:44.951632Z",
     "iopub.status.idle": "2024-05-19T03:58:44.967256Z",
     "shell.execute_reply": "2024-05-19T03:58:44.967256Z"
    }
   },
   "outputs": [],
   "source": [
    "disp = model.results.displacement(time_scoping=time_sets_scoping).eval()"
   ]
  },
  {
   "cell_type": "markdown",
   "metadata": {},
   "source": [
    "# Request specific time steps\r\n",
    "\r\n",
    "If specific time steps or load steps are of interest, looking into the\r\n",
    "`TimeFreqSupport` and connect a given `time_scoping` located on steps\r\n",
    "can be done.\r\n"
   ]
  },
  {
   "cell_type": "code",
   "execution_count": 6,
   "metadata": {
    "collapsed": false,
    "execution": {
     "iopub.execute_input": "2024-05-19T03:58:44.967256Z",
     "iopub.status.busy": "2024-05-19T03:58:44.967256Z",
     "iopub.status.idle": "2024-05-19T03:58:44.998677Z",
     "shell.execute_reply": "2024-05-19T03:58:44.998677Z"
    }
   },
   "outputs": [
    {
     "name": "stdout",
     "output_type": "stream",
     "text": [
      "DPF displacement(s)Fields Container\n",
      "  with 35 field(s)\n",
      "  defined on labels: time \n",
      "\n",
      "  with:\n",
      "  - field 0 {time:  1} with Nodal location, 3 components and 3820 entities.\n",
      "  - field 1 {time:  2} with Nodal location, 3 components and 3820 entities.\n",
      "  - field 2 {time:  3} with Nodal location, 3 components and 3820 entities.\n",
      "  - field 3 {time:  4} with Nodal location, 3 components and 3820 entities.\n",
      "  - field 4 {time:  5} with Nodal location, 3 components and 3820 entities.\n",
      "  - field 5 {time:  6} with Nodal location, 3 components and 3820 entities.\n",
      "  - field 6 {time:  7} with Nodal location, 3 components and 3820 entities.\n",
      "  - field 7 {time:  8} with Nodal location, 3 components and 3820 entities.\n",
      "  - field 8 {time:  9} with Nodal location, 3 components and 3820 entities.\n",
      "  - field 9 {time:  10} with Nodal location, 3 components and 3820 entities.\n",
      "  - field 10 {time:  11} with Nodal location, 3 components and 3820 entities.\n",
      "  - field 11 {time:  12} with Nodal location, 3 components and 3820 entities.\n",
      "  - field 12 {time:  13} with Nodal location, 3 components and 3820 entities.\n",
      "  - field 13 {time:  14} with Nodal location, 3 components and 3820 entities.\n",
      "  - field 14 {time:  15} with Nodal location, 3 components and 3820 entities.\n",
      "  - field 15 {time:  16} with Nodal location, 3 components and 3820 entities.\n",
      "  - field 16 {time:  17} with Nodal location, 3 components and 3820 entities.\n",
      "  - field 17 {time:  18} with Nodal location, 3 components and 3820 entities.\n",
      "  - field 18 {time:  19} with Nodal location, 3 components and 3820 entities.\n",
      "  - field 19 {time:  20} with Nodal location, 3 components and 3820 entities.\n",
      "  - field 20 {time:  21} with Nodal location, 3 components and 3820 entities.\n",
      "  - field 21 {time:  22} with Nodal location, 3 components and 3820 entities.\n",
      "  - field 22 {time:  23} with Nodal location, 3 components and 3820 entities.\n",
      "  - field 23 {time:  24} with Nodal location, 3 components and 3820 entities.\n",
      "  - field 24 {time:  25} with Nodal location, 3 components and 3820 entities.\n",
      "  - field 25 {time:  26} with Nodal location, 3 components and 3820 entities.\n",
      "  - field 26 {time:  27} with Nodal location, 3 components and 3820 entities.\n",
      "  - field 27 {time:  28} with Nodal location, 3 components and 3820 entities.\n",
      "  - field 28 {time:  29} with Nodal location, 3 components and 3820 entities.\n",
      "  - field 29 {time:  30} with Nodal location, 3 components and 3820 entities.\n",
      "  - field 30 {time:  31} with Nodal location, 3 components and 3820 entities.\n",
      "  - field 31 {time:  32} with Nodal location, 3 components and 3820 entities.\n",
      "  - field 32 {time:  33} with Nodal location, 3 components and 3820 entities.\n",
      "  - field 33 {time:  34} with Nodal location, 3 components and 3820 entities.\n",
      "  - field 34 {time:  35} with Nodal location, 3 components and 3820 entities.\n",
      "\n"
     ]
    }
   ],
   "source": [
    "time_steps_scoping = dpf.time_freq_scoping_factory.scoping_by_load_step(1)\n",
    "disp = model.results.displacement.on_time_scoping(time_steps_scoping).eval()\n",
    "\n",
    "print(disp)"
   ]
  },
  {
   "cell_type": "markdown",
   "metadata": {},
   "source": [
    "Equivalent to:\r\n"
   ]
  },
  {
   "cell_type": "code",
   "execution_count": 7,
   "metadata": {
    "collapsed": false,
    "execution": {
     "iopub.execute_input": "2024-05-19T03:58:45.001182Z",
     "iopub.status.busy": "2024-05-19T03:58:44.998677Z",
     "iopub.status.idle": "2024-05-19T03:58:45.014690Z",
     "shell.execute_reply": "2024-05-19T03:58:45.014690Z"
    }
   },
   "outputs": [],
   "source": [
    "disp_op = model.results.displacement()\n",
    "disp_op.inputs.time_scoping(time_steps_scoping)\n",
    "disp = disp_op.outputs.fields_container()"
   ]
  },
  {
   "cell_type": "markdown",
   "metadata": {},
   "source": [
    "# Using helpers\r\n",
    "\r\n",
    "Evaluate at all times.\r\n"
   ]
  },
  {
   "cell_type": "code",
   "execution_count": 8,
   "metadata": {
    "collapsed": false,
    "execution": {
     "iopub.execute_input": "2024-05-19T03:58:45.014690Z",
     "iopub.status.busy": "2024-05-19T03:58:45.014690Z",
     "iopub.status.idle": "2024-05-19T03:58:45.030314Z",
     "shell.execute_reply": "2024-05-19T03:58:45.030314Z"
    }
   },
   "outputs": [],
   "source": [
    "disp = model.results.displacement.on_all_time_freqs().eval()"
   ]
  },
  {
   "cell_type": "markdown",
   "metadata": {},
   "source": [
    "Evaluate at first and last times\r\n"
   ]
  },
  {
   "cell_type": "code",
   "execution_count": 9,
   "metadata": {
    "collapsed": false,
    "execution": {
     "iopub.execute_input": "2024-05-19T03:58:45.031936Z",
     "iopub.status.busy": "2024-05-19T03:58:45.031936Z",
     "iopub.status.idle": "2024-05-19T03:58:45.062526Z",
     "shell.execute_reply": "2024-05-19T03:58:45.062526Z"
    }
   },
   "outputs": [
    {
     "name": "stdout",
     "output_type": "stream",
     "text": [
      "DPF displacement(s)Fields Container\n",
      "  with 1 field(s)\n",
      "  defined on labels: time \n",
      "\n",
      "  with:\n",
      "  - field 0 {time:  1} with Nodal location, 3 components and 3820 entities.\n",
      "\n",
      "DPF displacement(s)Fields Container\n",
      "  with 1 field(s)\n",
      "  defined on labels: time \n",
      "\n",
      "  with:\n",
      "  - field 0 {time:  35} with Nodal location, 3 components and 3820 entities.\n",
      "\n"
     ]
    }
   ],
   "source": [
    "disp = model.results.displacement.on_first_time_freq().eval()\n",
    "print(disp)\n",
    "disp = model.results.displacement.on_last_time_freq().eval()\n",
    "print(disp)"
   ]
  }
 ],
 "metadata": {
  "kernelspec": {
   "display_name": "Python 3",
   "language": "python",
   "name": "python3"
  },
  "language_info": {
   "codemirror_mode": {
    "name": "ipython",
    "version": 3
   },
   "file_extension": ".py",
   "mimetype": "text/x-python",
   "name": "python",
   "nbconvert_exporter": "python",
   "pygments_lexer": "ipython3",
   "version": "3.10.1"
  }
 },
 "nbformat": 4,
 "nbformat_minor": 0
}

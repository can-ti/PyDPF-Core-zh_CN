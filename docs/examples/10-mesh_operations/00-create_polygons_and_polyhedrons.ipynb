{
 "cells": [
  {
   "cell_type": "markdown",
   "metadata": {},
   "source": [
    "# Create and display a mesh with polygon and polyhedron elements {#create_polygons_and_polyhedrons}\r\n",
    "\r\n",
    "This example shows how to manually create a\r\n",
    "`MeshedRegion <ansys.dpf.meshed_region.MeshedRegion>`{.interpreted-text\r\n",
    "role=\"class\"} object with polygons and polyhedrons.\r\n",
    "\r\n",
    "::: note\r\n",
    "::: title\r\n",
    "Note\r\n",
    ":::\r\n",
    "\r\n",
    "Because the cell_faces connectivity and the faces_nodes connectivity\r\n",
    "give all the information concerning the mesh we decide to avoid the\r\n",
    "process of adding element by defining directly the PropertyField.\r\n",
    "\r\n",
    "In order to plot the mesh, we add at the end of this example the\r\n",
    "cell_node connectivity\r\n",
    ":::\r\n"
   ]
  },
  {
   "cell_type": "code",
   "execution_count": 1,
   "metadata": {
    "collapsed": false,
    "execution": {
     "iopub.execute_input": "2024-05-19T04:59:25.014515Z",
     "iopub.status.busy": "2024-05-19T04:59:25.014515Z",
     "iopub.status.idle": "2024-05-19T04:59:26.230604Z",
     "shell.execute_reply": "2024-05-19T04:59:26.230604Z"
    }
   },
   "outputs": [],
   "source": [
    "# First import the required modules\n",
    "\n",
    "from ansys.dpf import core as dpf\n",
    "from ansys.dpf.core import mesh_scoping_factory\n",
    "from ansys.dpf.core.plotter import DpfPlotter"
   ]
  },
  {
   "cell_type": "markdown",
   "metadata": {},
   "source": [
    "# Define manually the node coordinates of the polyhedrons and polygons\r\n",
    "\r\n",
    "Note on these two sets of nodes, there are two nodes at \\[0,0,0\\] This\r\n",
    "anomaly has been taking into account for this example\r\n"
   ]
  },
  {
   "cell_type": "code",
   "execution_count": 2,
   "metadata": {
    "collapsed": false,
    "execution": {
     "iopub.execute_input": "2024-05-19T04:59:26.230604Z",
     "iopub.status.busy": "2024-05-19T04:59:26.230604Z",
     "iopub.status.idle": "2024-05-19T04:59:26.261941Z",
     "shell.execute_reply": "2024-05-19T04:59:26.261941Z"
    }
   },
   "outputs": [],
   "source": [
    "# Node coordinates of the polygons\n",
    "\n",
    "polygon_points = [\n",
    "    [9.99999978e-03, 8.74136522e-20, 0.00000000e00],  # 0\n",
    "    [0.00000000e00, -3.30139302e-19, 9.99999978e-03],  # 1\n",
    "    [0.00525, 0.005, 0.00525],  # 2\n",
    "    [9.99999978e-03, -3.14418395e-20, 9.99999978e-03],  # 3\n",
    "    [0.00000000e00, 1.03134572e-19, -9.99999978e-03],  # 4\n",
    "    [0.00525, 0.005, -0.00475],  # 5\n",
    "    [9.99999978e-03, 2.06269144e-19, -9.99999978e-03],  # 6\n",
    "    [-9.99999978e-03, -3.14418382e-19, 0.00000000e00],  # 7\n",
    "    [-0.00475, 0.005, -0.00475],  # 8\n",
    "    [-9.99999978e-03, 4.50853098e-34, -9.99999978e-03],  # 9\n",
    "    [-0.00475, 0.005, 0.00525],  # 10\n",
    "    [-9.99999978e-03, -6.28836764e-19, 9.99999978e-03],  # 11\n",
    "    [0.0005, 0.01, 0.0005],  # 12\n",
    "    [-7.24078460e-03, 2.62782397e-03, 8.26236179e-20],  # 13\n",
    "    [-7.10436800e-20, 2.37844935e-03, 7.74047290e-03],  # 14\n",
    "    [8.67361738e-19, 2.62782397e-03, -7.24078460e-03],  # 15\n",
    "    [0.00774047, 0.00237845, 0],  # 16\n",
    "    [-9.39159748e-36, -1.57209197e-20, 1.73472348e-18],  # 17\n",
    "]\n",
    "\n",
    "# Node coordinate of the polyhedrons\n",
    "\n",
    "polyhedron_points = [\n",
    "    [9.99999978e-03, 8.74136522e-20, 0.00000000e00],  # 0\n",
    "    [0.00000000e00, -3.30139302e-19, 9.99999978e-03],  # 1\n",
    "    [0.00525, 0.005, 0.00525],  # 2\n",
    "    [9.99999978e-03, -3.14418395e-20, 9.99999978e-03],  # 3\n",
    "    [0.00000000e00, 1.03134572e-19, -9.99999978e-03],  # 4\n",
    "    [0.00525, 0.005, -0.00475],  # 5\n",
    "    [9.99999978e-03, 2.06269144e-19, -9.99999978e-03],  # 6\n",
    "    [-9.99999978e-03, -3.14418382e-19, 0.00000000e00],  # 7\n",
    "    [-0.00475, 0.005, -0.00475],  # 8\n",
    "    [-9.99999978e-03, 4.50853098e-34, -9.99999978e-03],  # 9\n",
    "    [-0.00475, 0.005, 0.00525],  # 10\n",
    "    [-9.99999978e-03, -6.28836764e-19, 9.99999978e-03],  # 11\n",
    "    [0.0005, 0.01, 0.0005],  # 12\n",
    "    [-7.24078460e-03, 2.62782397e-03, 8.26236179e-20],  # 13\n",
    "    [-7.10436800e-20, 2.37844935e-03, 7.74047290e-03],  # 14\n",
    "    [8.67361738e-19, 2.62782397e-03, -7.24078460e-03],  # 15\n",
    "    [0.00774047, 0.00237845, 0],  # 16\n",
    "    [-9.39159748e-36, -1.57209197e-20, 1.73472348e-18],  # 17\n",
    "    [-0.00072653, 0.00052606, 0.00077884],  # 18\n",
    "]"
   ]
  },
  {
   "cell_type": "markdown",
   "metadata": {},
   "source": [
    "We then use these coordinates to build meshed region One meshed region\r\n",
    "will define shell elements and their connectivity (nodes -\\> lines -\\>\r\n",
    "surfaces), while the second will define solid elements and their own\r\n",
    "connectivity (nodes -\\> surfaces -\\> volumes).\r\n"
   ]
  },
  {
   "cell_type": "markdown",
   "metadata": {},
   "source": [
    "Create a bare mesh with pre-reserved memory\r\n"
   ]
  },
  {
   "cell_type": "code",
   "execution_count": 3,
   "metadata": {
    "collapsed": false,
    "execution": {
     "iopub.execute_input": "2024-05-19T04:59:26.261941Z",
     "iopub.status.busy": "2024-05-19T04:59:26.261941Z",
     "iopub.status.idle": "2024-05-19T04:59:26.388160Z",
     "shell.execute_reply": "2024-05-19T04:59:26.388160Z"
    }
   },
   "outputs": [],
   "source": [
    "mesh_shell_only = dpf.MeshedRegion(num_nodes=len(polygon_points), num_elements=16)\n",
    "mesh_solid_only = dpf.MeshedRegion(num_nodes=len(polyhedron_points), num_elements=5)"
   ]
  },
  {
   "cell_type": "markdown",
   "metadata": {},
   "source": [
    "Add the nodes to the meshed regions\r\n"
   ]
  },
  {
   "cell_type": "code",
   "execution_count": 4,
   "metadata": {
    "collapsed": false,
    "execution": {
     "iopub.execute_input": "2024-05-19T04:59:26.388160Z",
     "iopub.status.busy": "2024-05-19T04:59:26.388160Z",
     "iopub.status.idle": "2024-05-19T04:59:26.405639Z",
     "shell.execute_reply": "2024-05-19T04:59:26.404291Z"
    }
   },
   "outputs": [],
   "source": [
    "# ShellOnly\n",
    "\n",
    "for i, node_shell in enumerate(mesh_shell_only.nodes.add_nodes(num=len(polygon_points))):\n",
    "    node_shell.id = i + 1\n",
    "    node_shell.coordinates = polygon_points[i]\n",
    "\n",
    "# SolidOnly\n",
    "\n",
    "for i, node_solid in enumerate(mesh_solid_only.nodes.add_nodes(num=len(polyhedron_points))):\n",
    "    node_solid.id = i + 1\n",
    "    node_solid.coordinates = polyhedron_points[i]"
   ]
  },
  {
   "cell_type": "markdown",
   "metadata": {},
   "source": [
    "# Create the connectivity tables\r\n"
   ]
  },
  {
   "cell_type": "markdown",
   "metadata": {},
   "source": [
    "face-to-node connectivity\r\n"
   ]
  },
  {
   "cell_type": "code",
   "execution_count": 5,
   "metadata": {
    "collapsed": false,
    "execution": {
     "iopub.execute_input": "2024-05-19T04:59:26.407038Z",
     "iopub.status.busy": "2024-05-19T04:59:26.407038Z",
     "iopub.status.idle": "2024-05-19T04:59:26.421706Z",
     "shell.execute_reply": "2024-05-19T04:59:26.420425Z"
    }
   },
   "outputs": [],
   "source": [
    "# ShellOnly Line[nodes]\n",
    "\n",
    "polygon_faces_node_connectivity = [\n",
    "    [2, 16],  # Line[Node] 0\n",
    "    [16, 0],  # Line[Node] 1\n",
    "    [0, 3],  # Line[Node] 2\n",
    "    [3, 2],  # Line[Node] 3\n",
    "    [3, 1],  # Line[Node] 4\n",
    "    [1, 14],  # Line[Node] 5\n",
    "    [14, 2],  # Line[Node] 6\n",
    "    [11, 1],  # Line[Node] 7\n",
    "    [1, 17],  # Line[Node] 8\n",
    "    [17, 7],  # Line[Node] 9\n",
    "    [7, 11],  # Line[Node] 10\n",
    "    [6, 0],  # Line[Node] 11\n",
    "    [16, 5],  # Line[Node] 12\n",
    "    [5, 6],  # Line[Node] 13\n",
    "    [5, 15],  # Line[Node] 14\n",
    "    [15, 4],  # Line[Node] 15\n",
    "    [4, 6],  # Line[Node] 16\n",
    "    [0, 17],  # Line[Node] 17\n",
    "    [9, 4],  # Line[Node] 18\n",
    "    [15, 8],  # Line[Node] 19\n",
    "    [8, 9],  # Line[Node] 20\n",
    "    [8, 13],  # Line[Node] 21\n",
    "    [13, 7],  # Line[Node] 22\n",
    "    [7, 9],  # Line[Node] 23\n",
    "    [17, 4],  # Line[Node] 24\n",
    "    [10, 14],  # Line[Node] 25\n",
    "    [11, 10],  # Line[Node] 26\n",
    "    [13, 10],  # Line[Node] 27\n",
    "    [12, 2],  # Line[Node] 28\n",
    "    [10, 12],  # Line[Node] 29\n",
    "    [8, 12],  # Line[Node] 30\n",
    "    [5, 12],  # Line[Node] 31\n",
    "]\n",
    "\n",
    "# SolidOnly Face[nodes]\n",
    "\n",
    "polyhedron_faces_node_connectivity = [\n",
    "    [15, 17, 18, 13, 8],  # Face[Node] 0\n",
    "    [17, 18, 13, 7],  # Face[Node] 1\n",
    "    [17, 18, 14, 1],  # Face[Node] 2\n",
    "    [16, 17, 18, 14, 2],  # Face[Node] 3\n",
    "    [17, 16, 0],  # Face[Node] 4\n",
    "    [17, 15, 4],  # Face[Node] 5\n",
    "    [16, 17, 15, 5],  # Face[Node] 6\n",
    "    [14, 18, 13, 10],  # Face[Node] 7\n",
    "    [2, 16, 0, 3],  # Face[Node] 8\n",
    "    [3, 1, 14, 2],  # Face[Node] 9\n",
    "    [11, 1, 17, 7],  # Face[Node] 10\n",
    "    [6, 0, 16, 5],  # Face[Node] 11\n",
    "    [5, 15, 4, 6],  # Face[Node] 12\n",
    "    [3, 0, 17, 1],  # Face[Node] 13\n",
    "    [9, 4, 15, 8],  # Face[Node] 14\n",
    "    [8, 13, 7, 9],  # Face[Node] 15\n",
    "    [7, 17, 4, 9],  # Face[Node] 16\n",
    "    [10, 14, 1, 11],  # Face[Node] 17\n",
    "    [11, 7, 13, 10],  # Face[Node] 18\n",
    "    [4, 17, 0, 6],  # Face[Node] 19\n",
    "    [12, 2, 14, 10],  # Face[Node] 20\n",
    "    [10, 13, 8, 12],  # Face[Node] 21\n",
    "    [8, 15, 5, 12],  # Face[Node] 22\n",
    "    [5, 16, 2, 12],  # Face[Node] 23\n",
    "]"
   ]
  },
  {
   "cell_type": "markdown",
   "metadata": {},
   "source": [
    "cell-to-face connectivity\r\n"
   ]
  },
  {
   "cell_type": "code",
   "execution_count": 6,
   "metadata": {
    "collapsed": false,
    "execution": {
     "iopub.execute_input": "2024-05-19T04:59:26.421706Z",
     "iopub.status.busy": "2024-05-19T04:59:26.421706Z",
     "iopub.status.idle": "2024-05-19T04:59:26.437454Z",
     "shell.execute_reply": "2024-05-19T04:59:26.436262Z"
    }
   },
   "outputs": [],
   "source": [
    "# ShellOnly Face[lines]\n",
    "\n",
    "polygon_element_faces_connectivity = [\n",
    "    [0, 1, 2, 3],  # Face[Line] 0\n",
    "    [4, 5, 6, 3],  # Face[Line] 1\n",
    "    [7, 8, 9, 10],  # Face[Line] 2\n",
    "    [11, 1, 12, 13],  # Face[Line] 3\n",
    "    [14, 15, 16, 13],  # Face[Line] 4\n",
    "    [2, 17, 8, 4],  # Face[Line] 5\n",
    "    [18, 15, 19, 20],  # Face[Line] 6\n",
    "    [21, 22, 23, 20],  # Face[Line] 7\n",
    "    [10, 24, 18, 23],  # Face[Line] 8\n",
    "    [25, 5, 7, 26],  # Face[Line] 9\n",
    "    [10, 22, 27, 26],  # Face[Line] 10\n",
    "    [24, 21, 12, 18],  # Face[Line] 11\n",
    "    [28, 6, 25, 29],  # Face[Line] 12\n",
    "    [27, 21, 30, 29],  # Face[Line] 13\n",
    "    [19, 14, 31, 30],  # Face[Line] 14\n",
    "    [12, 0, 28, 31],  # Face[Line] 15\n",
    "]\n",
    "\n",
    "# SolidOnly Volume[Face]\n",
    "\n",
    "polyhedron_element_faces_connectivity = [\n",
    "    [3, 7, 20, 21, 22, 23, 0, 6],  # Volume[Face] 0\n",
    "    [2, 8, 9, 13, 3, 4],  # Volume[Face] 1\n",
    "    [0, 5, 14, 15, 16, 1],  # Volume[Face] 2\n",
    "    [4, 6, 11, 12, 19, 5],  # Volume[Face] 3\n",
    "    [1, 10, 17, 18, 2, 7],  # Volume[Face] 4\n",
    "]"
   ]
  },
  {
   "cell_type": "markdown",
   "metadata": {},
   "source": [
    "Now also have to define a PropertyField relative the element_face\r\n",
    "reverse. It is necessary to define the orientation of the faces relative\r\n",
    "to the cells that they surround. A given face has its nodal connectivity\r\n",
    "defined in a certain order, which means that the two cells that it\r\n",
    "bounds are either at the positive or negative sides of the face. We\r\n",
    "indicate this with the elements_faces_reversed PropertyField, \\# whose\r\n",
    "values can be either 0 or 1. By convention, 0 means that the face-\\>node\r\n",
    "connectivity implies that the given cell is at side 0 of the face, and 1\r\n",
    "the opposite\r\n"
   ]
  },
  {
   "cell_type": "markdown",
   "metadata": {},
   "source": [
    "element_face reverse connectivity\r\n"
   ]
  },
  {
   "cell_type": "code",
   "execution_count": 7,
   "metadata": {
    "collapsed": false,
    "execution": {
     "iopub.execute_input": "2024-05-19T04:59:26.437454Z",
     "iopub.status.busy": "2024-05-19T04:59:26.437454Z",
     "iopub.status.idle": "2024-05-19T04:59:26.452418Z",
     "shell.execute_reply": "2024-05-19T04:59:26.452418Z"
    }
   },
   "outputs": [],
   "source": [
    "# ShellOnly\n",
    "\n",
    "data_reverse_field_shell = [\n",
    "    [0, 0, 0, 0],\n",
    "    [0, 0, 0, 1],\n",
    "    [0, 0, 0, 0],\n",
    "    [0, 1, 0, 0],\n",
    "    [0, 0, 0, 1],\n",
    "    [1, 0, 1, 1],\n",
    "    [0, 1, 0, 0],\n",
    "    [0, 0, 0, 1],\n",
    "    [0, 1, 0, 0],\n",
    "    [0, 1, 1, 0],\n",
    "    [0, 0, 1, 0],\n",
    "    [1, 1, 1, 1],\n",
    "    [0, 1, 1, 0],\n",
    "    [1, 1, 0, 1],\n",
    "    [1, 1, 0, 1],\n",
    "    [1, 1, 1, 1],\n",
    "]\n",
    "\n",
    "# SolidOnly\n",
    "\n",
    "data_reverse_field_solid = [\n",
    "    [0, 0, 0, 0, 0, 0, 1, 1],\n",
    "    [0, 0, 0, 0, 1, 1],\n",
    "    [0, 0, 0, 0, 0, 1],\n",
    "    [0, 0, 0, 0, 0, 1],\n",
    "    [0, 0, 0, 0, 1, 1],\n",
    "]"
   ]
  },
  {
   "cell_type": "markdown",
   "metadata": {},
   "source": [
    "# Connectivity set in property fields\r\n",
    "\r\n",
    "We now set all of these information into a PropertyField regarding the\r\n",
    "meshed region\r\n"
   ]
  },
  {
   "cell_type": "markdown",
   "metadata": {},
   "source": [
    "face_node connectivity\r\n"
   ]
  },
  {
   "cell_type": "code",
   "execution_count": 8,
   "metadata": {
    "collapsed": false,
    "execution": {
     "iopub.execute_input": "2024-05-19T04:59:26.452418Z",
     "iopub.status.busy": "2024-05-19T04:59:26.452418Z",
     "iopub.status.idle": "2024-05-19T04:59:26.468498Z",
     "shell.execute_reply": "2024-05-19T04:59:26.468498Z"
    }
   },
   "outputs": [],
   "source": [
    "# ShellOnly\n",
    "\n",
    "connectivity_f_n_shell = dpf.PropertyField()\n",
    "for face_nodes_index_shell, face_nodes_shell in enumerate(polygon_faces_node_connectivity):\n",
    "    connectivity_f_n_shell.append(face_nodes_shell, face_nodes_index_shell)\n",
    "connectivity_f_n_shell.scoping = mesh_scoping_factory.face_scoping(list(range(30)))\n",
    "mesh_shell_only.set_property_field(\n",
    "    property_name=\"faces_nodes_connectivity\", value=connectivity_f_n_shell\n",
    ")\n",
    "\n",
    "# SolidOnly\n",
    "\n",
    "connectivity_f_n_solid = dpf.PropertyField()\n",
    "for face_nodes_index_solid, face_nodes_solid in enumerate(polyhedron_faces_node_connectivity):\n",
    "    connectivity_f_n_solid.append(face_nodes_solid, face_nodes_index_solid)\n",
    "connectivity_f_n_solid.scoping = mesh_scoping_factory.face_scoping(list(range(24)))\n",
    "mesh_solid_only.set_property_field(\n",
    "    property_name=\"faces_nodes_connectivity\", value=connectivity_f_n_solid\n",
    ")"
   ]
  },
  {
   "cell_type": "markdown",
   "metadata": {},
   "source": [
    "element_face connectivity\r\n"
   ]
  },
  {
   "cell_type": "code",
   "execution_count": 9,
   "metadata": {
    "collapsed": false,
    "execution": {
     "iopub.execute_input": "2024-05-19T04:59:26.468498Z",
     "iopub.status.busy": "2024-05-19T04:59:26.468498Z",
     "iopub.status.idle": "2024-05-19T04:59:26.484377Z",
     "shell.execute_reply": "2024-05-19T04:59:26.484377Z"
    }
   },
   "outputs": [],
   "source": [
    "# ShellOnly\n",
    "\n",
    "connectivity_e_f_shell = dpf.PropertyField()\n",
    "reverse_connectivity_e_f_shell = dpf.PropertyField()\n",
    "for element_faces_index_shell, element_faces_shell in enumerate(polygon_element_faces_connectivity):\n",
    "    connectivity_e_f_shell.append(element_faces_shell, element_faces_index_shell)\n",
    "    reverse_connectivity_e_f_shell.append(\n",
    "        data_reverse_field_shell[element_faces_index_shell], element_faces_index_shell\n",
    "    )\n",
    "mesh_shell_only.set_property_field(\n",
    "    property_name=\"elements_faces_connectivity\", value=connectivity_e_f_shell\n",
    ")\n",
    "mesh_shell_only.set_property_field(\n",
    "    property_name=\"elements_faces_reversed\", value=reverse_connectivity_e_f_shell\n",
    ")\n",
    "\n",
    "# SolidOnly\n",
    "\n",
    "connectivity_e_f_solid = dpf.PropertyField()\n",
    "reverse_connectivity_e_f_solid = dpf.PropertyField()\n",
    "for element_faces_index_solid, element_faces_solid in enumerate(\n",
    "    polyhedron_element_faces_connectivity\n",
    "):\n",
    "    connectivity_e_f_solid.append(element_faces_solid, element_faces_index_solid)\n",
    "    reverse_connectivity_e_f_solid.append(\n",
    "        data_reverse_field_solid[element_faces_index_solid], element_faces_index_solid\n",
    "    )\n",
    "mesh_solid_only.set_property_field(\n",
    "    property_name=\"elements_faces_connectivity\", value=connectivity_e_f_solid\n",
    ")\n",
    "mesh_solid_only.set_property_field(\n",
    "    property_name=\"elements_faces_reversed\", value=reverse_connectivity_e_f_solid\n",
    ")"
   ]
  },
  {
   "cell_type": "markdown",
   "metadata": {},
   "source": [
    "# Face/Element types set in property fields\r\n",
    "\r\n",
    "Set the element/face type for the meshed region For the ShellOnly the\r\n",
    "faces are lines and the elements are Quad For the SolidOnly the faces\r\n",
    "are Polygon, Quad and Tri and the elements are Polyhedrons\r\n"
   ]
  },
  {
   "cell_type": "markdown",
   "metadata": {},
   "source": [
    "face type\r\n"
   ]
  },
  {
   "cell_type": "code",
   "execution_count": 10,
   "metadata": {
    "collapsed": false,
    "execution": {
     "iopub.execute_input": "2024-05-19T04:59:26.489361Z",
     "iopub.status.busy": "2024-05-19T04:59:26.484377Z",
     "iopub.status.idle": "2024-05-19T04:59:26.500463Z",
     "shell.execute_reply": "2024-05-19T04:59:26.500463Z"
    }
   },
   "outputs": [],
   "source": [
    "# ShellOnly\n",
    "\n",
    "FT_shell_line = [[dpf.element_types.Line2.value] * 30]\n",
    "\n",
    "fcs_types_shell = dpf.PropertyField()\n",
    "for face_index_solid, fctype_shell in enumerate(FT_shell_line):\n",
    "    fcs_types_shell.append(fctype_shell, face_index_solid)\n",
    "fcs_types_shell.scoping = mesh_scoping_factory.face_scoping(list(range(30)))\n",
    "mesh_shell_only.set_property_field(property_name=\"faces_type\", value=fcs_types_shell)\n",
    "\n",
    "# SolidOnly\n",
    "\n",
    "FT_solid_tri = [dpf.element_types.Tri3.value]\n",
    "FT_solid_quad = [dpf.element_types.Quad4.value]\n",
    "FT_solid_polyg = [dpf.element_types.Polygon.value]\n",
    "\n",
    "FT_tot = [\n",
    "    FT_solid_polyg + FT_solid_quad * 2 + FT_solid_polyg + FT_solid_tri * 2 + FT_solid_quad * 18\n",
    "]\n",
    "\n",
    "fcs_types_solid = dpf.PropertyField()\n",
    "for face_index_shell, fctype_solid in enumerate(FT_tot):\n",
    "    fcs_types_solid.append(fctype_solid, face_index_shell)\n",
    "fcs_types_solid.scoping = mesh_scoping_factory.face_scoping(list(range(24)))\n",
    "mesh_solid_only.set_property_field(property_name=\"faces_type\", value=fcs_types_solid)"
   ]
  },
  {
   "cell_type": "markdown",
   "metadata": {},
   "source": [
    "element type\r\n"
   ]
  },
  {
   "cell_type": "code",
   "execution_count": 11,
   "metadata": {
    "collapsed": false,
    "execution": {
     "iopub.execute_input": "2024-05-19T04:59:26.500463Z",
     "iopub.status.busy": "2024-05-19T04:59:26.500463Z",
     "iopub.status.idle": "2024-05-19T04:59:26.516253Z",
     "shell.execute_reply": "2024-05-19T04:59:26.516253Z"
    }
   },
   "outputs": [],
   "source": [
    "# ShellOnly\n",
    "\n",
    "ET_shell_quad = [[dpf.element_types.Quad4.value] * 16]\n",
    "\n",
    "els_types_shell = dpf.PropertyField()\n",
    "for element_index_solid, eltype_shell in enumerate(ET_shell_quad):\n",
    "    els_types_shell.append(eltype_shell, element_index_solid)\n",
    "els_types_shell.scoping = mesh_scoping_factory.elemental_scoping(list(range(16)))\n",
    "mesh_shell_only.set_property_field(property_name=\"eltype\", value=els_types_shell)\n",
    "\n",
    "# SolidOnly\n",
    "\n",
    "ET_solid_polyhedron = [dpf.element_types.Polyhedron.value] * 5\n",
    "\n",
    "els_types_solid = dpf.PropertyField()\n",
    "for element_index_shell, eltype_solid in enumerate(ET_solid_polyhedron):\n",
    "    els_types_solid.append(eltype_solid, element_index_shell)\n",
    "els_types_solid.scoping = mesh_scoping_factory.elemental_scoping(list(range(5)))\n",
    "mesh_solid_only.set_property_field(property_name=\"eltype\", value=els_types_solid)"
   ]
  },
  {
   "cell_type": "markdown",
   "metadata": {},
   "source": [
    "# Plot the meshes\r\n",
    "\r\n",
    "In order to plot the meshes, we have to set a cell_node connectivity\r\n",
    "PropertyField\r\n"
   ]
  },
  {
   "cell_type": "markdown",
   "metadata": {},
   "source": [
    "cell_node connectivity\r\n"
   ]
  },
  {
   "cell_type": "code",
   "execution_count": 12,
   "metadata": {
    "collapsed": false,
    "execution": {
     "iopub.execute_input": "2024-05-19T04:59:26.516253Z",
     "iopub.status.busy": "2024-05-19T04:59:26.516253Z",
     "iopub.status.idle": "2024-05-19T04:59:26.532317Z",
     "shell.execute_reply": "2024-05-19T04:59:26.532317Z"
    }
   },
   "outputs": [],
   "source": [
    "# ShellOnly\n",
    "\n",
    "polygon_element_node_connectivity = [\n",
    "    [2, 16, 0, 3],  # Face[Node] 0\n",
    "    [3, 1, 14, 2],  # Face[Node] 1\n",
    "    [11, 1, 17, 7],  # Face[Node] 2\n",
    "    [6, 0, 16, 5],  # Face[Node] 3\n",
    "    [5, 15, 4, 6],  # Face[Node] 4\n",
    "    [3, 0, 17, 1],  # Face[Node] 5\n",
    "    [9, 4, 15, 8],  # Face[Node] 6\n",
    "    [8, 13, 7, 9],  # Face[Node] 7\n",
    "    [7, 17, 4, 9],  # Face[Node] 8\n",
    "    [10, 14, 1, 11],  # Face[Node] 9\n",
    "    [11, 7, 13, 10],  # Face[Node] 10\n",
    "    [4, 17, 0, 6],  # Face[Node] 11\n",
    "    [12, 2, 14, 10],  # Face[Node] 12\n",
    "    [10, 13, 8, 12],  # Face[Node] 13\n",
    "    [8, 15, 5, 12],  # Face[Node] 14\n",
    "    [5, 16, 2, 12],  # Face[Node] 15\n",
    "]\n",
    "\n",
    "# SolidOnly\n",
    "\n",
    "polyhedron_element_node_connectivity = [\n",
    "    [2, 5, 8, 10, 12, 13, 14, 15, 16, 17, 18],  # Volume[Node] 0\n",
    "    [0, 1, 2, 3, 14, 16, 17, 18],  # Volume[Node] 1\n",
    "    [4, 7, 8, 9, 13, 15, 17, 18],  # Volume[Node] 2\n",
    "    [0, 4, 5, 6, 15, 16, 17],  # Volume[Node] 3\n",
    "    [1, 7, 10, 11, 13, 14, 17, 18],  # Volume[Node] 4\n",
    "]"
   ]
  },
  {
   "cell_type": "markdown",
   "metadata": {},
   "source": [
    "Set the cell_node connectivity in PropertyField\r\n"
   ]
  },
  {
   "cell_type": "code",
   "execution_count": 13,
   "metadata": {
    "collapsed": false,
    "execution": {
     "iopub.execute_input": "2024-05-19T04:59:26.532317Z",
     "iopub.status.busy": "2024-05-19T04:59:26.532317Z",
     "iopub.status.idle": "2024-05-19T04:59:26.548391Z",
     "shell.execute_reply": "2024-05-19T04:59:26.548391Z"
    }
   },
   "outputs": [],
   "source": [
    "# ShellOnly\n",
    "\n",
    "connectivity_e_n_shell = dpf.PropertyField()\n",
    "for element_nodes_index_shell, element_nodes_shell in enumerate(polygon_element_node_connectivity):\n",
    "    connectivity_e_n_shell.append(element_nodes_shell, element_nodes_index_shell)\n",
    "mesh_shell_only.set_property_field(property_name=\"connectivity\", value=connectivity_e_n_shell)\n",
    "\n",
    "# SolidOnly\n",
    "\n",
    "connectivity_e_n_solid = dpf.PropertyField()\n",
    "for element_nodes_index_solid, element_nodes_solid in enumerate(\n",
    "    polyhedron_element_node_connectivity\n",
    "):\n",
    "    connectivity_e_n_solid.append(element_nodes_solid, element_nodes_index_solid)\n",
    "mesh_solid_only.set_property_field(property_name=\"connectivity\", value=connectivity_e_n_solid)"
   ]
  },
  {
   "cell_type": "markdown",
   "metadata": {},
   "source": [
    "Plot\r\n"
   ]
  },
  {
   "cell_type": "code",
   "execution_count": 14,
   "metadata": {
    "collapsed": false,
    "execution": {
     "iopub.execute_input": "2024-05-19T04:59:26.548391Z",
     "iopub.status.busy": "2024-05-19T04:59:26.548391Z",
     "iopub.status.idle": "2024-05-19T04:59:27.337129Z",
     "shell.execute_reply": "2024-05-19T04:59:27.337129Z"
    }
   },
   "outputs": [
    {
     "data": {
      "image/jpeg": "[encoded data removed]",
      "image/png": "[encoded data removed]",
      "text/plain": [
       "<PIL.Image.Image image mode=RGB size=1024x768>"
      ]
     },
     "metadata": {},
     "output_type": "display_data"
    },
    {
     "data": {
      "text/plain": [
       "[(0.04, 0.03, 0.05),\n",
       " (0.0, 0.0, 0.0),\n",
       " (0.408248290463863, 0.816496580927726, 0.408248290463863)]"
      ]
     },
     "execution_count": 14,
     "metadata": {},
     "output_type": "execute_result"
    }
   ],
   "source": [
    "c_pos = [(0.04, 0.03, 0.05), (0.0, 0.0, 0.0), (0.1, 0.2, 0.1)]\n",
    "\n",
    "pl = DpfPlotter()\n",
    "pl.add_mesh(\n",
    "    mesh_solid_only, style=\"surface\", show_edges=True, show_axes=True, color=\"w\", opacity=0.3\n",
    ")\n",
    "pl.show_figure(show_axes=True, cpos=c_pos, return_cpos=True)"
   ]
  }
 ],
 "metadata": {
  "kernelspec": {
   "display_name": "Python 3",
   "language": "python",
   "name": "python3"
  },
  "language_info": {
   "codemirror_mode": {
    "name": "ipython",
    "version": 3
   },
   "file_extension": ".py",
   "mimetype": "text/x-python",
   "name": "python",
   "nbconvert_exporter": "python",
   "pygments_lexer": "ipython3",
   "version": "3.10.1"
  }
 },
 "nbformat": 4,
 "nbformat_minor": 0
}

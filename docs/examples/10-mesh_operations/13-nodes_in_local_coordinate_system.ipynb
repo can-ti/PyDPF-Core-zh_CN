{
 "cells": [
  {
   "cell_type": "markdown",
   "metadata": {},
   "source": [
    "# Convert nodal coordinates field to local coordinate system {#ref_nodes_in_local_coordinate_system}\r\n",
    "\r\n",
    "Currently, there is no native operator to get nodal coordinates in an\r\n",
    "Local Coordinate System (LCS). The operator\r\n",
    "`rotate <ansys.dpf.core.operators.geo.rotate.rotate>`{.interpreted-text\r\n",
    "role=\"class\"} rotates the input field in Global Coordinate System (GCS)\r\n",
    "as per the input rotation matrix. So, if the LCS is at the same origin\r\n",
    "as the GCS, only one operation using the\r\n",
    "`rotate <ansys.dpf.core.operators.geo.rotate.rotate>`{.interpreted-text\r\n",
    "role=\"class\"} operator give the desired output. However, if the aim is\r\n",
    "to obtain the LCS in a case where the LCS origin does not coincide with\r\n",
    "the GCS, a transformation is required after the rotation to get the\r\n",
    "correct coordinates in LCS.\r\n",
    "\r\n",
    "The script below demonstrates the methodology using PyDPF.\r\n"
   ]
  },
  {
   "cell_type": "code",
   "execution_count": 1,
   "metadata": {
    "collapsed": false,
    "execution": {
     "iopub.execute_input": "2024-05-19T04:59:35.361822Z",
     "iopub.status.busy": "2024-05-19T04:59:35.361822Z",
     "iopub.status.idle": "2024-05-19T04:59:36.672836Z",
     "shell.execute_reply": "2024-05-19T04:59:36.672836Z"
    }
   },
   "outputs": [],
   "source": [
    "# Import necessary modules\n",
    "from ansys.dpf import core as dpf\n",
    "from ansys.dpf.core import examples"
   ]
  },
  {
   "cell_type": "markdown",
   "metadata": {},
   "source": [
    "Create a model object to establish a connection with an example result\r\n",
    "file:\r\n"
   ]
  },
  {
   "cell_type": "code",
   "execution_count": 2,
   "metadata": {
    "collapsed": false,
    "execution": {
     "iopub.execute_input": "2024-05-19T04:59:36.674396Z",
     "iopub.status.busy": "2024-05-19T04:59:36.674396Z",
     "iopub.status.idle": "2024-05-19T04:59:36.784942Z",
     "shell.execute_reply": "2024-05-19T04:59:36.783132Z"
    }
   },
   "outputs": [],
   "source": [
    "model = dpf.Model(examples.download_hemisphere())"
   ]
  },
  {
   "cell_type": "markdown",
   "metadata": {},
   "source": [
    "Get the property `coordinates_field` from\r\n",
    "`nodes <ansys.dpf.core.nodes>`{.interpreted-text role=\"class\"}:\r\n"
   ]
  },
  {
   "cell_type": "code",
   "execution_count": 3,
   "metadata": {
    "collapsed": false,
    "execution": {
     "iopub.execute_input": "2024-05-19T04:59:36.784942Z",
     "iopub.status.busy": "2024-05-19T04:59:36.784942Z",
     "iopub.status.idle": "2024-05-19T04:59:36.814671Z",
     "shell.execute_reply": "2024-05-19T04:59:36.814671Z"
    }
   },
   "outputs": [],
   "source": [
    "ncoord_f = model.metadata.meshed_region.nodes.coordinates_field"
   ]
  },
  {
   "cell_type": "markdown",
   "metadata": {},
   "source": [
    "Get the rotation matrix of the LCS ID 12. The first 9 values in the `cs`\r\n",
    "output is the rotation matrix.\r\n"
   ]
  },
  {
   "cell_type": "code",
   "execution_count": 4,
   "metadata": {
    "collapsed": false,
    "execution": {
     "iopub.execute_input": "2024-05-19T04:59:36.814671Z",
     "iopub.status.busy": "2024-05-19T04:59:36.814671Z",
     "iopub.status.idle": "2024-05-19T04:59:36.830294Z",
     "shell.execute_reply": "2024-05-19T04:59:36.830294Z"
    }
   },
   "outputs": [],
   "source": [
    "cs = model.operator(r\"mapdl::rst::CS\")\n",
    "cs.inputs.cs_id.connect(12)\n",
    "cs_rot_mat = cs.outputs.field.get_data().data.T[0:9]"
   ]
  },
  {
   "cell_type": "markdown",
   "metadata": {},
   "source": [
    "Create a 3x3 rotation matrix field `rot_mat_f`:\r\n"
   ]
  },
  {
   "cell_type": "code",
   "execution_count": 5,
   "metadata": {
    "collapsed": false,
    "execution": {
     "iopub.execute_input": "2024-05-19T04:59:36.830294Z",
     "iopub.status.busy": "2024-05-19T04:59:36.830294Z",
     "iopub.status.idle": "2024-05-19T04:59:36.845913Z",
     "shell.execute_reply": "2024-05-19T04:59:36.845913Z"
    }
   },
   "outputs": [],
   "source": [
    "rot_mat_f = dpf.fields_factory.create_scalar_field(1)\n",
    "rot_mat_f.data = cs_rot_mat"
   ]
  },
  {
   "cell_type": "markdown",
   "metadata": {},
   "source": [
    "Create a 3D vector field for the position vector of the LCS\\'s origin\r\n",
    "and rotate the origin as per the rotation matrix of the LCS. The last 3\r\n",
    "entries of `cs` output is the LCS\\'s origin in GCS.\r\n"
   ]
  },
  {
   "cell_type": "code",
   "execution_count": 6,
   "metadata": {
    "collapsed": false,
    "execution": {
     "iopub.execute_input": "2024-05-19T04:59:36.845913Z",
     "iopub.status.busy": "2024-05-19T04:59:36.845913Z",
     "iopub.status.idle": "2024-05-19T04:59:36.861489Z",
     "shell.execute_reply": "2024-05-19T04:59:36.861489Z"
    }
   },
   "outputs": [],
   "source": [
    "pos_vec = dpf.fields_factory.create_3d_vector_field(1)\n",
    "pos_vec.data = cs.outputs.field.get_data().data.T[-3:]\n",
    "pos_vec_rot = dpf.operators.geo.rotate(field=pos_vec, field_rotation_matrix=rot_mat_f)"
   ]
  },
  {
   "cell_type": "markdown",
   "metadata": {},
   "source": [
    "Get rotated nodal coordinates field:\r\n"
   ]
  },
  {
   "cell_type": "code",
   "execution_count": 7,
   "metadata": {
    "collapsed": false,
    "execution": {
     "iopub.execute_input": "2024-05-19T04:59:36.861489Z",
     "iopub.status.busy": "2024-05-19T04:59:36.861489Z",
     "iopub.status.idle": "2024-05-19T04:59:36.878922Z",
     "shell.execute_reply": "2024-05-19T04:59:36.877610Z"
    }
   },
   "outputs": [],
   "source": [
    "ncoord_rot_f = dpf.operators.geo.rotate(field=ncoord_f, field_rotation_matrix=rot_mat_f)"
   ]
  },
  {
   "cell_type": "markdown",
   "metadata": {},
   "source": [
    "Transform rotated nodal coordinates field along rotated position vector\r\n",
    "`pos_vec_rot`:\r\n"
   ]
  },
  {
   "cell_type": "code",
   "execution_count": 8,
   "metadata": {
    "collapsed": false,
    "execution": {
     "iopub.execute_input": "2024-05-19T04:59:36.883815Z",
     "iopub.status.busy": "2024-05-19T04:59:36.882640Z",
     "iopub.status.idle": "2024-05-19T04:59:36.893688Z",
     "shell.execute_reply": "2024-05-19T04:59:36.893688Z"
    }
   },
   "outputs": [],
   "source": [
    "pos_vec_rot_neg_f = dpf.operators.math.scale(field=pos_vec_rot, ponderation=-1.0)\n",
    "pos_vec_rot_neg = pos_vec_rot_neg_f.outputs.field.get_data().data_as_list\n",
    "ncoord_translate = dpf.operators.math.add_constant(field=ncoord_rot_f, ponderation=pos_vec_rot_neg)"
   ]
  },
  {
   "cell_type": "markdown",
   "metadata": {},
   "source": [
    "Get the nodal coordinates field `ncoord_lcs_f` in LCS:\r\n"
   ]
  },
  {
   "cell_type": "code",
   "execution_count": 9,
   "metadata": {
    "collapsed": false,
    "execution": {
     "iopub.execute_input": "2024-05-19T04:59:36.893688Z",
     "iopub.status.busy": "2024-05-19T04:59:36.893688Z",
     "iopub.status.idle": "2024-05-19T04:59:36.909433Z",
     "shell.execute_reply": "2024-05-19T04:59:36.909311Z"
    }
   },
   "outputs": [],
   "source": [
    "ncoord_lcs_f = ncoord_translate.outputs.field.get_data()"
   ]
  },
  {
   "cell_type": "markdown",
   "metadata": {},
   "source": [
    "Coordinates of NID 1 in GCS\r\n"
   ]
  },
  {
   "cell_type": "code",
   "execution_count": 10,
   "metadata": {
    "collapsed": false,
    "execution": {
     "iopub.execute_input": "2024-05-19T04:59:36.910437Z",
     "iopub.status.busy": "2024-05-19T04:59:36.910437Z",
     "iopub.status.idle": "2024-05-19T04:59:36.924940Z",
     "shell.execute_reply": "2024-05-19T04:59:36.924940Z"
    }
   },
   "outputs": [
    {
     "name": "stdout",
     "output_type": "stream",
     "text": [
      "[[-2.74445261 13.2627943   4.68419313]]\n"
     ]
    }
   ],
   "source": [
    "print(ncoord_f.get_entity_data_by_id(1))"
   ]
  },
  {
   "cell_type": "markdown",
   "metadata": {},
   "source": [
    "Coordinates of NID 1 in LCS\r\n"
   ]
  },
  {
   "cell_type": "code",
   "execution_count": 11,
   "metadata": {
    "collapsed": false,
    "execution": {
     "iopub.execute_input": "2024-05-19T04:59:36.924940Z",
     "iopub.status.busy": "2024-05-19T04:59:36.924940Z",
     "iopub.status.idle": "2024-05-19T04:59:36.940563Z",
     "shell.execute_reply": "2024-05-19T04:59:36.940563Z"
    }
   },
   "outputs": [
    {
     "name": "stdout",
     "output_type": "stream",
     "text": [
      "[[11.71685114 -4.83846377 -2.35002614]]\n"
     ]
    }
   ],
   "source": [
    "print(ncoord_lcs_f.get_entity_data_by_id(1))"
   ]
  }
 ],
 "metadata": {
  "kernelspec": {
   "display_name": "Python 3",
   "language": "python",
   "name": "python3"
  },
  "language_info": {
   "codemirror_mode": {
    "name": "ipython",
    "version": 3
   },
   "file_extension": ".py",
   "mimetype": "text/x-python",
   "name": "python",
   "nbconvert_exporter": "python",
   "pygments_lexer": "ipython3",
   "version": "3.10.1"
  }
 },
 "nbformat": 4,
 "nbformat_minor": 0
}

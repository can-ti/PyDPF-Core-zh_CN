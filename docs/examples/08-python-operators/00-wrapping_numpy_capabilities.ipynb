{
 "cells": [
  {
   "cell_type": "markdown",
   "metadata": {},
   "source": [
    "# Create a basic operator plugin {#ref_wrapping_numpy_capabilities}\r\n",
    "\r\n",
    "This example shows how to create a basic operator plugin, which is for a\r\n",
    "single custom operator. This custom operator, `easy_statistics`,\r\n",
    "computes simple statistics quantities on a scalar field with the help of\r\n",
    "the `numpy` package.\r\n",
    "\r\n",
    "The objective of this simple example is to show how routines for DPF can\r\n",
    "be wrapped in Python plugins.\r\n",
    "\r\n",
    "::: note\r\n",
    "::: title\r\n",
    "Note\r\n",
    ":::\r\n",
    "\r\n",
    "This example requires DPF 4.0 (Ansys 2022R2) or above. For more\r\n",
    "information, see `ref_compatibility`{.interpreted-text role=\"ref\"}.\r\n",
    ":::\r\n"
   ]
  },
  {
   "cell_type": "markdown",
   "metadata": {},
   "source": [
    "# Create the operator\r\n",
    "\r\n",
    "Creating a basic operator plugin consists of writing a single Python\r\n",
    "script. An operator implementation derives from the\r\n",
    "`ansys.dpf.core.custom_operator.CustomOperatorBase`{.interpreted-text\r\n",
    "role=\"class\"} class and a call to the\r\n",
    "`ansys.dpf.core.custom_operator.record_operator`{.interpreted-text\r\n",
    "role=\"py:func\"} method.\r\n",
    "\r\n",
    "The `easy_statistics` operator takes a field as an input and returns the\r\n",
    "first quartile, the median, the third quartile, and the variance. The\r\n",
    "Python operator and its recording are available in the\r\n",
    "`easy_statistics.py` file.\r\n",
    "\r\n",
    "Download and display the Python script.\r\n"
   ]
  },
  {
   "cell_type": "code",
   "execution_count": 1,
   "metadata": {
    "collapsed": false,
    "execution": {
     "iopub.execute_input": "2024-05-19T04:59:06.267292Z",
     "iopub.status.busy": "2024-05-19T04:59:06.267292Z",
     "iopub.status.idle": "2024-05-19T04:59:07.547015Z",
     "shell.execute_reply": "2024-05-19T04:59:07.547015Z"
    }
   },
   "outputs": [
    {
     "name": "stdout",
     "output_type": "stream",
     "text": [
      "\t\t\timport numpy as np\n",
      "\n",
      "\t\t\tfrom ansys.dpf import core as dpf\n",
      "\n",
      "\t\t\tfrom ansys.dpf.core.custom_operator import CustomOperatorBase, record_operator\n",
      "\n",
      "\t\t\tfrom ansys.dpf.core.operator_specification import CustomSpecification, SpecificationProperties, \\\n",
      "\n",
      "\t\t\t    PinSpecification\n",
      "\n",
      "\t\t\t\n",
      "\n",
      "\t\t\t\n",
      "\n",
      "\t\t\tclass EasyStatistics(CustomOperatorBase):\n",
      "\n",
      "\t\t\t    @property\n",
      "\n",
      "\t\t\t    def name(self):\n",
      "\n",
      "\t\t\t        return \"easy_statistics\"\n",
      "\n",
      "\t\t\t\n",
      "\n",
      "\t\t\t    @property\n",
      "\n",
      "\t\t\t    def specification(self) -> CustomSpecification:\n",
      "\n",
      "\t\t\t        spec = CustomSpecification()\n",
      "\n",
      "\t\t\t        spec.description = \"Compute the first quartile, the median, the third quartile and the variance of a scalar Field with numpy\"\n",
      "\n",
      "\t\t\t        spec.inputs = {0: PinSpecification(\"field\", [dpf.Field, dpf.FieldsContainer], \"scalar Field on which the statistics quantities is computed.\")}\n",
      "\n",
      "\t\t\t        spec.outputs = {\n",
      "\n",
      "\t\t\t            0: PinSpecification(\"first_quartile\", [float]),\n",
      "\n",
      "\t\t\t            1: PinSpecification(\"median\", [float]),\n",
      "\n",
      "\t\t\t            2: PinSpecification(\"third_quartile\", [float]),\n",
      "\n",
      "\t\t\t            3: PinSpecification(\"variance\", [float]),\n",
      "\n",
      "\t\t\t        }\n",
      "\n",
      "\t\t\t        spec.properties = SpecificationProperties(\"easy statistics\", \"math\")\n",
      "\n",
      "\t\t\t        return spec\n",
      "\n",
      "\t\t\t\n",
      "\n",
      "\t\t\t    def run(self):\n",
      "\n",
      "\t\t\t        field = self.get_input(0, dpf.Field)\n",
      "\n",
      "\t\t\t        if field is None:\n",
      "\n",
      "\t\t\t            field = self.get_input(0, dpf.FieldsContainer)[0]\n",
      "\n",
      "\t\t\t        # compute stats\n",
      "\n",
      "\t\t\t        first_quartile_val = np.quantile(field.data, 0.25)\n",
      "\n",
      "\t\t\t        median_val = np.quantile(field.data, 0.5)\n",
      "\n",
      "\t\t\t        third_quartile_val = np.quantile(field.data, 0.75)\n",
      "\n",
      "\t\t\t        variance_val = np.var(field.data)\n",
      "\n",
      "\t\t\t        self.set_output(0, first_quartile_val)\n",
      "\n",
      "\t\t\t        self.set_output(1, median_val)\n",
      "\n",
      "\t\t\t        self.set_output(2, third_quartile_val)\n",
      "\n",
      "\t\t\t        self.set_output(3, float(variance_val))\n",
      "\n",
      "\t\t\t        self.set_succeeded()\n",
      "\n",
      "\t\t\t\n",
      "\n",
      "\t\t\t\n",
      "\n",
      "\t\t\tdef load_operators(*args):\n",
      "\n",
      "\t\t\t    record_operator(EasyStatistics, *args)\n",
      "\n"
     ]
    }
   ],
   "source": [
    "from ansys.dpf.core import examples\n",
    "from ansys.dpf import core as dpf\n",
    "\n",
    "\n",
    "GITHUB_SOURCE_URL = (\n",
    "    \"https://github.com/ansys/pydpf-core/\" \"raw/examples/first_python_plugins/python_plugins\"\n",
    ")\n",
    "EXAMPLE_FILE = GITHUB_SOURCE_URL + \"/easy_statistics.py\"\n",
    "operator_file_path = examples.downloads._retrieve_file(\n",
    "    EXAMPLE_FILE, \"easy_statistics.py\", \"python_plugins\"\n",
    ")\n",
    "\n",
    "with open(operator_file_path, \"r\") as f:\n",
    "    for line in f.readlines():\n",
    "        print(\"\\t\\t\\t\" + line)"
   ]
  },
  {
   "cell_type": "markdown",
   "metadata": {},
   "source": [
    "# Load the plugin\r\n",
    "\r\n",
    "You use the `ansys.dpf.core.core.load_library`{.interpreted-text\r\n",
    "role=\"py:func\"} method to load the plugin.\r\n"
   ]
  },
  {
   "cell_type": "code",
   "execution_count": 2,
   "metadata": {
    "collapsed": false,
    "execution": {
     "iopub.execute_input": "2024-05-19T04:59:07.547015Z",
     "iopub.status.busy": "2024-05-19T04:59:07.547015Z",
     "iopub.status.idle": "2024-05-19T04:59:10.455261Z",
     "shell.execute_reply": "2024-05-19T04:59:10.455261Z"
    }
   },
   "outputs": [
    {
     "data": {
      "text/plain": [
       "'py_easy_statistics successfully loaded'"
      ]
     },
     "execution_count": 2,
     "metadata": {},
     "output_type": "execute_result"
    }
   ],
   "source": [
    "# - The first argument is the path to the directory where the plugin\n",
    "#   is located.\n",
    "# - The second argument is ``py_`` plus the name of the Python script.\n",
    "# - The third argument is the name of the function used to record operators.\n",
    "#\n",
    "\n",
    "import os\n",
    "from ansys.dpf import core as dpf\n",
    "from ansys.dpf.core import examples\n",
    "\n",
    "# Python plugins are not supported in process.\n",
    "dpf.start_local_server(config=dpf.AvailableServerConfigs.GrpcServer)\n",
    "\n",
    "operator_server_file_path = dpf.upload_file_in_tmp_folder(operator_file_path)\n",
    "dpf.load_library(os.path.dirname(operator_server_file_path), \"py_easy_statistics\", \"load_operators\")"
   ]
  },
  {
   "cell_type": "markdown",
   "metadata": {},
   "source": [
    "Instantiate the operator.\r\n"
   ]
  },
  {
   "cell_type": "code",
   "execution_count": 3,
   "metadata": {
    "collapsed": false,
    "execution": {
     "iopub.execute_input": "2024-05-19T04:59:10.456341Z",
     "iopub.status.busy": "2024-05-19T04:59:10.456341Z",
     "iopub.status.idle": "2024-05-19T04:59:10.471398Z",
     "shell.execute_reply": "2024-05-19T04:59:10.471398Z"
    }
   },
   "outputs": [],
   "source": [
    "new_operator = dpf.Operator(\"easy_statistics\")"
   ]
  },
  {
   "cell_type": "markdown",
   "metadata": {},
   "source": [
    "# Connect a workflow\r\n",
    "\r\n",
    "Connect a workflow that computes the norm of the displacement to the\r\n",
    "`easy_statistics` operator. Methods of the `easy_statistics` class are\r\n",
    "dynamically added because specifications for the operator are defined in\r\n",
    "the plugin.\r\n"
   ]
  },
  {
   "cell_type": "markdown",
   "metadata": {},
   "source": [
    "::: graphviz\r\n",
    "\r\n",
    "digraph foo {\r\n",
    "\r\n",
    ":   graph \\[pad=\\\"0.5\\\", nodesep=\\\"0.3\\\", ranksep=\\\"0.3\\\"\\] node\r\n",
    "    \\[shape=box, style=filled, fillcolor=\\\"#ffcc00\\\", margin=\\\"0\\\"\\];\r\n",
    "    rankdir=LR; splines=line; ds \\[label=\\\"ds\\\", shape=box,\r\n",
    "    style=filled, fillcolor=cadetblue2\\]; ds -\\> displacement\r\n",
    "    \\[style=dashed\\]; displacement -\\> norm; norm -\\> easy_statistics;\r\n",
    "\r\n",
    "}\r\n",
    ":::\r\n"
   ]
  },
  {
   "cell_type": "markdown",
   "metadata": {},
   "source": [
    "# Use the operator\r\n"
   ]
  },
  {
   "cell_type": "code",
   "execution_count": 4,
   "metadata": {
    "collapsed": false,
    "execution": {
     "iopub.execute_input": "2024-05-19T04:59:10.474654Z",
     "iopub.status.busy": "2024-05-19T04:59:10.474654Z",
     "iopub.status.idle": "2024-05-19T04:59:10.518455Z",
     "shell.execute_reply": "2024-05-19T04:59:10.518455Z"
    }
   },
   "outputs": [
    {
     "name": "stdout",
     "output_type": "stream",
     "text": [
      "first quartile is 0.0\n",
      "median is 7.491665033689507e-09\n",
      "third quartile is 1.4276663319275634e-08\n",
      "variance is 3.054190175494998e-17\n"
     ]
    }
   ],
   "source": [
    "ds = dpf.DataSources(dpf.upload_file_in_tmp_folder(examples.find_static_rst()))\n",
    "displacement = dpf.operators.result.displacement(data_sources=ds)\n",
    "norm = dpf.operators.math.norm(displacement)\n",
    "new_operator.inputs.connect(norm)\n",
    "\n",
    "print(\"first quartile is\", new_operator.outputs.first_quartile())\n",
    "print(\"median is\", new_operator.outputs.median())\n",
    "print(\"third quartile is\", new_operator.outputs.third_quartile())\n",
    "print(\"variance is\", new_operator.outputs.variance())"
   ]
  }
 ],
 "metadata": {
  "kernelspec": {
   "display_name": "Python 3",
   "language": "python",
   "name": "python3"
  },
  "language_info": {
   "codemirror_mode": {
    "name": "ipython",
    "version": 3
   },
   "file_extension": ".py",
   "mimetype": "text/x-python",
   "name": "python",
   "nbconvert_exporter": "python",
   "pygments_lexer": "ipython3",
   "version": "3.10.1"
  }
 },
 "nbformat": 4,
 "nbformat_minor": 0
}

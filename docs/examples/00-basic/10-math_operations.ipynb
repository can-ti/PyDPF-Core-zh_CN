{
 "cells": [
  {
   "cell_type": "markdown",
   "metadata": {},
   "source": [
    "# Mathematical Operations {#ref_math_operators_example}\r\n",
    "\r\n",
    "DPF provides operators for implementing mathematical operations, ranging\r\n",
    "from addition and multiplication to FFT and QR solving.\r\n",
    "\r\n",
    "For a complete list, see `ref_dpf_operators_reference`{.interpreted-text\r\n",
    "role=\"ref\"}, under the math section.\r\n"
   ]
  },
  {
   "cell_type": "code",
   "execution_count": 1,
   "metadata": {
    "collapsed": false,
    "execution": {
     "iopub.execute_input": "2024-05-19T03:58:53.451441Z",
     "iopub.status.busy": "2024-05-19T03:58:53.451441Z",
     "iopub.status.idle": "2024-05-19T03:58:54.651845Z",
     "shell.execute_reply": "2024-05-19T03:58:54.651845Z"
    }
   },
   "outputs": [],
   "source": [
    "# Import the necessary modules\n",
    "import ansys.dpf.core as dpf"
   ]
  },
  {
   "cell_type": "markdown",
   "metadata": {},
   "source": [
    "# Addition\r\n"
   ]
  },
  {
   "cell_type": "code",
   "execution_count": 2,
   "metadata": {
    "collapsed": false,
    "execution": {
     "iopub.execute_input": "2024-05-19T03:58:54.651845Z",
     "iopub.status.busy": "2024-05-19T03:58:54.651845Z",
     "iopub.status.idle": "2024-05-19T03:58:54.778604Z",
     "shell.execute_reply": "2024-05-19T03:58:54.778604Z"
    }
   },
   "outputs": [],
   "source": [
    "# Initialize Fields\n",
    "num_entities = 2\n",
    "field1 = dpf.Field(nentities=2)\n",
    "field2 = dpf.Field(nentities=2)\n",
    "\n",
    "# By default, Fields contain 3d vectors.\n",
    "# So with three entities we need nine values.\n",
    "field1.data = [1.0, 2.0, 3.0, 4.0, 5.0, 6.0]\n",
    "field2.data = [1.0, 2.0, 3.0, 4.0, 5.0, 6.0]\n",
    "\n",
    "field1.scoping.ids = range(num_entities)\n",
    "field2.scoping.ids = range(num_entities)"
   ]
  },
  {
   "cell_type": "markdown",
   "metadata": {},
   "source": [
    "Once the fields are ready, we can instantiate an operator.\r\n"
   ]
  },
  {
   "cell_type": "code",
   "execution_count": 3,
   "metadata": {
    "collapsed": false,
    "execution": {
     "iopub.execute_input": "2024-05-19T03:58:54.781929Z",
     "iopub.status.busy": "2024-05-19T03:58:54.781929Z",
     "iopub.status.idle": "2024-05-19T03:58:54.795739Z",
     "shell.execute_reply": "2024-05-19T03:58:54.794486Z"
    }
   },
   "outputs": [],
   "source": [
    "add_op = dpf.operators.math.add(field1, field2)"
   ]
  },
  {
   "cell_type": "markdown",
   "metadata": {},
   "source": [
    "Finally, we use eval() to compute and retrieve the result.\r\n"
   ]
  },
  {
   "cell_type": "code",
   "execution_count": 4,
   "metadata": {
    "collapsed": false,
    "execution": {
     "iopub.execute_input": "2024-05-19T03:58:54.795739Z",
     "iopub.status.busy": "2024-05-19T03:58:54.795739Z",
     "iopub.status.idle": "2024-05-19T03:58:54.810459Z",
     "shell.execute_reply": "2024-05-19T03:58:54.810459Z"
    }
   },
   "outputs": [
    {
     "name": "stdout",
     "output_type": "stream",
     "text": [
      "[[ 2.  4.  6.]\n",
      " [ 8. 10. 12.]]\n"
     ]
    }
   ],
   "source": [
    "field3 = add_op.eval()\n",
    "\n",
    "# = [[2. 4. 6.] [8. 10. 12.]]\n",
    "print(field3.data)"
   ]
  },
  {
   "cell_type": "markdown",
   "metadata": {},
   "source": [
    "# Dot product\r\n"
   ]
  },
  {
   "cell_type": "code",
   "execution_count": 5,
   "metadata": {
    "collapsed": false,
    "execution": {
     "iopub.execute_input": "2024-05-19T03:58:54.812467Z",
     "iopub.status.busy": "2024-05-19T03:58:54.812467Z",
     "iopub.status.idle": "2024-05-19T03:58:54.826312Z",
     "shell.execute_reply": "2024-05-19T03:58:54.826312Z"
    }
   },
   "outputs": [
    {
     "name": "stdout",
     "output_type": "stream",
     "text": [
      "[14. 77.]\n"
     ]
    }
   ],
   "source": [
    "dot_op = dpf.operators.math.generalized_inner_product(field1, field2)\n",
    "\n",
    "# (1. * 1.) + (2. * 2.) + (3. * 3.) = 14.\n",
    "# (4. * 4.) + (5. * 5.) + (6. * 6.) = 77.\n",
    "field3 = dot_op.eval()\n",
    "print(field3.data)"
   ]
  },
  {
   "cell_type": "markdown",
   "metadata": {},
   "source": [
    "# Power\r\n"
   ]
  },
  {
   "cell_type": "code",
   "execution_count": 6,
   "metadata": {
    "collapsed": false,
    "execution": {
     "iopub.execute_input": "2024-05-19T03:58:54.827686Z",
     "iopub.status.busy": "2024-05-19T03:58:54.827686Z",
     "iopub.status.idle": "2024-05-19T03:58:54.842247Z",
     "shell.execute_reply": "2024-05-19T03:58:54.842247Z"
    }
   },
   "outputs": [
    {
     "name": "stdout",
     "output_type": "stream",
     "text": [
      "[[ 1.  8. 27.]]\n"
     ]
    }
   ],
   "source": [
    "field = dpf.Field(nentities=1)\n",
    "field1.data = [1.0, 2.0, 3.0]\n",
    "field1.scoping.ids = [1]\n",
    "\n",
    "pow_op = dpf.operators.math.pow(field1, 3.0)\n",
    "\n",
    "# [1. 8. 27.]\n",
    "field3 = pow_op.eval()\n",
    "print(field3.data)"
   ]
  },
  {
   "cell_type": "markdown",
   "metadata": {},
   "source": [
    "# L2 norm\r\n"
   ]
  },
  {
   "cell_type": "code",
   "execution_count": 7,
   "metadata": {
    "collapsed": false,
    "execution": {
     "iopub.execute_input": "2024-05-19T03:58:54.843590Z",
     "iopub.status.busy": "2024-05-19T03:58:54.843590Z",
     "iopub.status.idle": "2024-05-19T03:58:54.858178Z",
     "shell.execute_reply": "2024-05-19T03:58:54.858093Z"
    }
   },
   "outputs": [
    {
     "name": "stdout",
     "output_type": "stream",
     "text": [
      "[18.]\n"
     ]
    }
   ],
   "source": [
    "field1.data = [16.0, -8.0, 2.0]\n",
    "norm_op = dpf.operators.math.norm(field1)\n",
    "\n",
    "# [ 18. ]\n",
    "field3 = norm_op.eval()\n",
    "print(field3.data)"
   ]
  },
  {
   "cell_type": "markdown",
   "metadata": {},
   "source": [
    "# Accumulate\r\n",
    "\r\n",
    "First we define fields. By default, fields represent 3D vectors so one\r\n",
    "elementary data is a 3D vector. The optional ponderation field is a\r\n",
    "field which takes one value per entity, so we need to change its\r\n",
    "dimensionality (1D).\r\n"
   ]
  },
  {
   "cell_type": "code",
   "execution_count": 8,
   "metadata": {
    "collapsed": false,
    "execution": {
     "iopub.execute_input": "2024-05-19T03:58:54.859182Z",
     "iopub.status.busy": "2024-05-19T03:58:54.859182Z",
     "iopub.status.idle": "2024-05-19T03:58:54.874046Z",
     "shell.execute_reply": "2024-05-19T03:58:54.874046Z"
    }
   },
   "outputs": [],
   "source": [
    "num_entities = 3\n",
    "input_field = dpf.Field(nentities=num_entities)\n",
    "ponderation_field = dpf.Field(num_entities)\n",
    "ponderation_field.dimensionality = dpf.Dimensionality([1])\n",
    "\n",
    "input_field.scoping.ids = range(num_entities)\n",
    "ponderation_field.scoping.ids = range(num_entities)"
   ]
  },
  {
   "cell_type": "markdown",
   "metadata": {},
   "source": [
    "Fill fields with data. Add nine values because there are three entities.\r\n"
   ]
  },
  {
   "cell_type": "code",
   "execution_count": 9,
   "metadata": {
    "collapsed": false,
    "execution": {
     "iopub.execute_input": "2024-05-19T03:58:54.874046Z",
     "iopub.status.busy": "2024-05-19T03:58:54.874046Z",
     "iopub.status.idle": "2024-05-19T03:58:54.889669Z",
     "shell.execute_reply": "2024-05-19T03:58:54.889669Z"
    }
   },
   "outputs": [],
   "source": [
    "input_field.data = [-2.0, 2.0, 4.0, -5.0, 0.5, 1.0, 7.0, 3.0, -3.0]"
   ]
  },
  {
   "cell_type": "markdown",
   "metadata": {},
   "source": [
    "Three weights, one per entity.\r\n"
   ]
  },
  {
   "cell_type": "code",
   "execution_count": 10,
   "metadata": {
    "collapsed": false,
    "execution": {
     "iopub.execute_input": "2024-05-19T03:58:54.891193Z",
     "iopub.status.busy": "2024-05-19T03:58:54.891193Z",
     "iopub.status.idle": "2024-05-19T03:58:54.905696Z",
     "shell.execute_reply": "2024-05-19T03:58:54.905696Z"
    }
   },
   "outputs": [],
   "source": [
    "ponderation_field.data = [0.5, 2.0, 0.5]"
   ]
  },
  {
   "cell_type": "markdown",
   "metadata": {},
   "source": [
    "Retrieve the result.\r\n"
   ]
  },
  {
   "cell_type": "code",
   "execution_count": 11,
   "metadata": {
    "collapsed": false,
    "execution": {
     "iopub.execute_input": "2024-05-19T03:58:54.905696Z",
     "iopub.status.busy": "2024-05-19T03:58:54.905696Z",
     "iopub.status.idle": "2024-05-19T03:58:54.921992Z",
     "shell.execute_reply": "2024-05-19T03:58:54.921520Z"
    }
   },
   "outputs": [
    {
     "name": "stdout",
     "output_type": "stream",
     "text": [
      "[[-7.5  3.5  2.5]]\n"
     ]
    }
   ],
   "source": [
    "acc = dpf.operators.math.accumulate(fieldA=input_field, ponderation=ponderation_field)\n",
    "output_field = acc.outputs.field()\n",
    "\n",
    "# (-2.0 * 0.5) + (-5.0 * 2.0) + (7.0 * 0.5)  = -7.5\n",
    "# (2.0  * 0.5) + (0.5  * 2.0) + (3.0 * 0.5)  = 3.5\n",
    "# (4.0  * 0.5) + (1.0  * 2.0) + (-3.0 * 0.5) = 2.5\n",
    "print(output_field.data)"
   ]
  },
  {
   "cell_type": "markdown",
   "metadata": {},
   "source": [
    "# With scoping\r\n"
   ]
  },
  {
   "cell_type": "code",
   "execution_count": 12,
   "metadata": {
    "collapsed": false,
    "execution": {
     "iopub.execute_input": "2024-05-19T03:58:54.923985Z",
     "iopub.status.busy": "2024-05-19T03:58:54.922989Z",
     "iopub.status.idle": "2024-05-19T03:58:54.935949Z",
     "shell.execute_reply": "2024-05-19T03:58:54.935898Z"
    }
   },
   "outputs": [],
   "source": [
    "field1.data = [1.0, 2.0, 3.0, 4.0, 5.0, 6.0, 7.0, 8.0, 9.0]\n",
    "field2.data = [1.0, 2.0, 3.0, 4.0, 5.0, 6.0, 7.0, 8.0, 9.0]"
   ]
  },
  {
   "cell_type": "markdown",
   "metadata": {},
   "source": [
    "Next, we need to provide information about the scoping. DPF needs to\r\n",
    "know the IDs of the data we just provided, so that it can apply an\r\n",
    "operator on a subset of the original data.\r\n",
    "\r\n",
    "By providing these integers we only select the data with an ID in\r\n",
    "common. Here we are selecting the third elementary data of the first\r\n",
    "field, and the first elementary data of the second field, Other\r\n",
    "elementary data is not taken into account when using an operator that\r\n",
    "needs two operands.\r\n"
   ]
  },
  {
   "cell_type": "code",
   "execution_count": 13,
   "metadata": {
    "collapsed": false,
    "execution": {
     "iopub.execute_input": "2024-05-19T03:58:54.937245Z",
     "iopub.status.busy": "2024-05-19T03:58:54.937245Z",
     "iopub.status.idle": "2024-05-19T03:58:54.953065Z",
     "shell.execute_reply": "2024-05-19T03:58:54.953065Z"
    }
   },
   "outputs": [
    {
     "name": "stdout",
     "output_type": "stream",
     "text": [
      "[[ 1.  2.  3.]\n",
      " [ 4.  5.  6.]\n",
      " [ 8. 10. 12.]\n",
      " [ 4.  5.  6.]\n",
      " [ 7.  8.  9.]]\n",
      "[[ 8. 10. 12.]]\n"
     ]
    }
   ],
   "source": [
    "field1.scoping.ids = [1, 2, 3]\n",
    "field2.scoping.ids = [3, 4, 5]\n",
    "\n",
    "add_op = dpf.operators.math.add(field1, field2)\n",
    "field3 = add_op.eval()\n",
    "\n",
    "# Only the third entity was changed\n",
    "# because it is the only operator where two operands were provided.\n",
    "print(field3.data)\n",
    "# [[8. 10. 12.]]\n",
    "print(field3.get_entity_data_by_id(3))"
   ]
  },
  {
   "cell_type": "markdown",
   "metadata": {},
   "source": [
    "Dot product\r\n"
   ]
  },
  {
   "cell_type": "code",
   "execution_count": 14,
   "metadata": {
    "collapsed": false,
    "execution": {
     "iopub.execute_input": "2024-05-19T03:58:54.953065Z",
     "iopub.status.busy": "2024-05-19T03:58:54.953065Z",
     "iopub.status.idle": "2024-05-19T03:58:54.968854Z",
     "shell.execute_reply": "2024-05-19T03:58:54.968854Z"
    }
   },
   "outputs": [
    {
     "name": "stdout",
     "output_type": "stream",
     "text": [
      "[ 0.  0. 50.  0.  0.]\n"
     ]
    }
   ],
   "source": [
    "dot_op = dpf.operators.math.generalized_inner_product(field1, field2)\n",
    "\n",
    "# We obtain zeros for IDs where there could not be two operands.\n",
    "# (7. * 1.) + (8. * 2.) + (9. * 3.) = 50.\n",
    "# [0. 0. 50. 0. 0.]\n",
    "field3 = dot_op.eval()\n",
    "print(field3.data)"
   ]
  }
 ],
 "metadata": {
  "kernelspec": {
   "display_name": "Python 3",
   "language": "python",
   "name": "python3"
  },
  "language_info": {
   "codemirror_mode": {
    "name": "ipython",
    "version": 3
   },
   "file_extension": ".py",
   "mimetype": "text/x-python",
   "name": "python",
   "nbconvert_exporter": "python",
   "pygments_lexer": "ipython3",
   "version": "3.10.1"
  }
 },
 "nbformat": 4,
 "nbformat_minor": 0
}

{
 "cells": [
  {
   "cell_type": "markdown",
   "metadata": {},
   "source": [
    "# Averaging order {#ref_compute_and_average}\r\n",
    "\r\n",
    "This example compares two different workflows that accomplish the same\r\n",
    "task to show how the order of the operators can change the end result.\r\n",
    "\r\n",
    "-   The first workflow extracts the stress field of a crankshaft under\r\n",
    "    load from a result file, computes the equivalent (von Mises)\r\n",
    "    stresses, and then applies an averaging operator to transpose them\r\n",
    "    from `ElementalNodal` to `Nodal` positions.\r\n",
    "-   The second workflow first transposes the stresses that come from the\r\n",
    "    result file to a `Nodal` position and then calculates the von Mises\r\n",
    "    stresses.\r\n",
    "\r\n",
    "The following images shows these workflows:\r\n",
    "\r\n",
    "::: graphviz\r\n",
    "\r\n",
    "digraph foo {\r\n",
    "\r\n",
    ":   graph \\[pad=\\\"0\\\", nodesep=\\\"0.3\\\", ranksep=\\\"0.3\\\"\\] node\r\n",
    "    \\[shape=box, style=filled, fillcolor=\\\"#ffcc0\\\", margin=\\\"0\\\"\\];\r\n",
    "    rankdir=LR; splines=line; node \\[fixedsize=true,width=2.5\\]\r\n",
    "\r\n",
    "    stress01 \\[label=\\\"stress\\\"\\]; stress02 \\[label=\\\"stress\\\"\\]; vm01\r\n",
    "    \\[label=\\\"von_mises_eqv\\\"\\]; vm02 \\[label=\\\"von_mises_eqv\\\"\\]; avg01\r\n",
    "    \\[label=\\\"elemental_nodal_to_nodal\\\", width=2.5\\]; avg02\r\n",
    "    \\[label=\\\"elemental_nodal_to_nodal\\\", width=2.5\\]; subgraph\r\n",
    "    cluster_1 { ds01 \\[label=\\\"data_src\\\", shape=box, style=filled,\r\n",
    "    fillcolor=cadetblue2\\];\r\n",
    "\r\n",
    "    > ds01 -\\> stress01 \\[style=dashed\\]; stress01 -\\> vm01; vm01 -\\>\r\n",
    "    > avg01\r\n",
    "    >\r\n",
    "    > label=\\\"Compute Von Mises then average stresses\\\"; style=filled;\r\n",
    "    > fillcolor=lightgrey;\r\n",
    "\r\n",
    "    } subgraph cluster_2 { ds02 \\[label=\\\"data_src\\\", shape=box,\r\n",
    "    style=filled, fillcolor=cadetblue2\\];\r\n",
    "\r\n",
    "    > ds02 -\\> stress02 \\[style=dashed\\]; stress02 -\\> avg02; avg02 -\\>\r\n",
    "    > vm02\r\n",
    "    >\r\n",
    "    > label=\\\"Average stresses then compute Von Mises\\\"; style=filled;\r\n",
    "    > fillcolor=lightgrey;\r\n",
    "\r\n",
    "    }\r\n",
    "\r\n",
    "}\r\n",
    ":::\r\n"
   ]
  },
  {
   "cell_type": "markdown",
   "metadata": {},
   "source": [
    "Import the necessary modules.\r\n"
   ]
  },
  {
   "cell_type": "code",
   "execution_count": 1,
   "metadata": {
    "collapsed": false,
    "execution": {
     "iopub.execute_input": "2024-05-19T04:59:21.337663Z",
     "iopub.status.busy": "2024-05-19T04:59:21.337663Z",
     "iopub.status.idle": "2024-05-19T04:59:22.547388Z",
     "shell.execute_reply": "2024-05-19T04:59:22.547388Z"
    }
   },
   "outputs": [],
   "source": [
    "from ansys.dpf import core as dpf\n",
    "from ansys.dpf.core import examples"
   ]
  },
  {
   "cell_type": "markdown",
   "metadata": {},
   "source": [
    "Load the simulation results from an RST file.\r\n"
   ]
  },
  {
   "cell_type": "code",
   "execution_count": 2,
   "metadata": {
    "collapsed": false,
    "execution": {
     "iopub.execute_input": "2024-05-19T04:59:22.547388Z",
     "iopub.status.busy": "2024-05-19T04:59:22.547388Z",
     "iopub.status.idle": "2024-05-19T04:59:22.657839Z",
     "shell.execute_reply": "2024-05-19T04:59:22.657839Z"
    }
   },
   "outputs": [],
   "source": [
    "analysis = examples.download_crankshaft()"
   ]
  },
  {
   "cell_type": "markdown",
   "metadata": {},
   "source": [
    "# Create the first workflow\r\n",
    "\r\n",
    "The first workflow applies the averaging operator after computing the\r\n",
    "equivalent stresses. To create it, define a function that computes the\r\n",
    "von Mises stresses in the crankshaft and then apply the averaging\r\n",
    "operator.\r\n"
   ]
  },
  {
   "cell_type": "code",
   "execution_count": 3,
   "metadata": {
    "collapsed": false,
    "execution": {
     "iopub.execute_input": "2024-05-19T04:59:22.657839Z",
     "iopub.status.busy": "2024-05-19T04:59:22.657839Z",
     "iopub.status.idle": "2024-05-19T04:59:22.674780Z",
     "shell.execute_reply": "2024-05-19T04:59:22.673497Z"
    }
   },
   "outputs": [],
   "source": [
    "def compute_von_mises_then_average(analysis):\n",
    "\n",
    "    # Create a model from the results of the simulation and retrieve its mesh\n",
    "    model = dpf.Model(analysis)\n",
    "    mesh = model.metadata.meshed_region\n",
    "\n",
    "    # Apply the stress operator to obtain the stresses in the body\n",
    "    stress_op = dpf.operators.result.stress()\n",
    "    stress_op.inputs.connect(model)\n",
    "    stresses = stress_op.outputs.fields_container()\n",
    "\n",
    "    # Compute the von Mises stresses\n",
    "    vm_op = dpf.operators.invariant.von_mises_eqv()\n",
    "    vm_op.inputs.field.connect(stresses)\n",
    "    von_mises = vm_op.outputs.field()\n",
    "\n",
    "    # Apply the averaging operator to the von Mises stresses\n",
    "    avg_op = dpf.operators.averaging.elemental_nodal_to_nodal()\n",
    "    avg_op.inputs.connect(von_mises)\n",
    "    avg_von_mises = avg_op.outputs.field()\n",
    "\n",
    "    # Find the maximum value of the von Mises stress field\n",
    "    min_max = dpf.operators.min_max.min_max()\n",
    "    min_max.inputs.field.connect(avg_von_mises)\n",
    "    max_val = min_max.outputs.field_max()\n",
    "\n",
    "    return max_val.data[0]"
   ]
  },
  {
   "cell_type": "markdown",
   "metadata": {},
   "source": [
    "# Create the second workflow\r\n",
    "\r\n",
    "The second workflow computes the equivalent stresses after applying the\r\n",
    "averaging operator. To create this workflow, first apply the averaging\r\n",
    "operator to the stress field in the crankshaft and then calculate the\r\n",
    "von Mises stresses, which are already located on a `Nodal` position.\r\n"
   ]
  },
  {
   "cell_type": "code",
   "execution_count": 4,
   "metadata": {
    "collapsed": false,
    "execution": {
     "iopub.execute_input": "2024-05-19T04:59:22.675320Z",
     "iopub.status.busy": "2024-05-19T04:59:22.675320Z",
     "iopub.status.idle": "2024-05-19T04:59:22.690630Z",
     "shell.execute_reply": "2024-05-19T04:59:22.689429Z"
    }
   },
   "outputs": [],
   "source": [
    "def average_then_compute_von_mises(analysis):\n",
    "\n",
    "    # Creating the model from the results of the simulation\n",
    "    model = dpf.Model(analysis)\n",
    "    mesh = model.metadata.meshed_region\n",
    "\n",
    "    # Retrieving the stresses\n",
    "    stress_op = dpf.operators.result.stress()\n",
    "    stress_op.inputs.connect(model)\n",
    "    stresses = stress_op.outputs.fields_container()\n",
    "\n",
    "    # Averaging the stresses to a Nodal position\n",
    "    avg_op = dpf.operators.averaging.elemental_nodal_to_nodal()\n",
    "    avg_op.inputs.connect(stresses)\n",
    "    avg_stresses = avg_op.outputs.field()\n",
    "\n",
    "    # Computing the Von Mises stresses\n",
    "    vm_op = dpf.operators.invariant.von_mises_eqv()\n",
    "    vm_op.inputs.field.connect(avg_stresses)\n",
    "    avg_von_mises = vm_op.outputs.field()\n",
    "\n",
    "    # Finding the maximum Von Mises stress value\n",
    "    min_max = dpf.operators.min_max.min_max()\n",
    "    min_max.inputs.field.connect(avg_von_mises)\n",
    "    max_val = min_max.outputs.field_max()\n",
    "\n",
    "    return max_val.data[0]"
   ]
  },
  {
   "cell_type": "markdown",
   "metadata": {},
   "source": [
    "# Plot the results\r\n",
    "\r\n",
    "Plot both von Mises stress fields side by side to compare them. - The\r\n",
    "first plot displays the results when the equivalent stresses are\r\n",
    "calculated first. - The second plot shows the results when the averaging\r\n",
    "is done first.\r\n"
   ]
  },
  {
   "cell_type": "code",
   "execution_count": 5,
   "metadata": {
    "collapsed": false,
    "execution": {
     "iopub.execute_input": "2024-05-19T04:59:22.690630Z",
     "iopub.status.busy": "2024-05-19T04:59:22.690630Z",
     "iopub.status.idle": "2024-05-19T04:59:23.302827Z",
     "shell.execute_reply": "2024-05-19T04:59:23.302827Z"
    }
   },
   "outputs": [],
   "source": [
    "max1 = compute_von_mises_then_average(analysis)\n",
    "max2 = average_then_compute_von_mises(analysis)"
   ]
  },
  {
   "cell_type": "code",
   "execution_count": 6,
   "metadata": {
    "collapsed": false,
    "execution": {
     "iopub.execute_input": "2024-05-19T04:59:23.302827Z",
     "iopub.status.busy": "2024-05-19T04:59:23.302827Z",
     "iopub.status.idle": "2024-05-19T04:59:23.318452Z",
     "shell.execute_reply": "2024-05-19T04:59:23.318452Z"
    }
   },
   "outputs": [
    {
     "name": "stdout",
     "output_type": "stream",
     "text": [
      "Max stress when Von Mises is computed first: 12494955907.48 Pa\n",
      "Max stress when the stress averaging is done first: 11860260659.06 Pa\n",
      "The maximum Von Mises stress value is 5.35% higher when the averaging is done after the calculations.\n"
     ]
    }
   ],
   "source": [
    "diff = (max1 - max2) / max2 * 100\n",
    "\n",
    "print(\"Max stress when Von Mises is computed first: {:.2f} Pa\".format(max1))\n",
    "print(\"Max stress when the stress averaging is done first: {:.2f} Pa\".format(max2))\n",
    "print(\n",
    "    \"The maximum Von Mises stress value is {:.2f}% higher when \\\n",
    "the averaging is done after the calculations.\".format(\n",
    "        diff\n",
    "    )\n",
    ")"
   ]
  },
  {
   "cell_type": "markdown",
   "metadata": {},
   "source": [
    "Even though both workflows apply the same steps to the same initial\r\n",
    "data, their final results are different because of the order in which\r\n",
    "the operators are applied.\r\n"
   ]
  }
 ],
 "metadata": {
  "kernelspec": {
   "display_name": "Python 3",
   "language": "python",
   "name": "python3"
  },
  "language_info": {
   "codemirror_mode": {
    "name": "ipython",
    "version": 3
   },
   "file_extension": ".py",
   "mimetype": "text/x-python",
   "name": "python",
   "nbconvert_exporter": "python",
   "pygments_lexer": "ipython3",
   "version": "3.10.1"
  }
 },
 "nbformat": 4,
 "nbformat_minor": 0
}

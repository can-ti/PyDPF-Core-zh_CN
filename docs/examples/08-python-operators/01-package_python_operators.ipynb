{
 "cells": [
  {
   "cell_type": "markdown",
   "metadata": {},
   "source": [
    "# Create a plug-in package with multiple operators {#ref_python_plugin_package}\r\n",
    "\r\n",
    "This example shows how to create a plug-in package with multiple\r\n",
    "operators. The benefits of writing a package rather than simple scripts\r\n",
    "are:\r\n",
    "\r\n",
    "-   **Componentization:** You can split the code into several Python\r\n",
    "    modules or files.\r\n",
    "-   **Distribution:** You can use standard Python tools to upload and\r\n",
    "    download packages.\r\n",
    "-   **Documentation:** You can add README files, documentation, tests,\r\n",
    "    and examples to the package.\r\n",
    "\r\n",
    "For this example, the plug-in package contains two different operators:\r\n",
    "\r\n",
    "-   One that returns all scoping IDs having data higher than the average\r\n",
    "-   One that returns all scoping IDs having data lower than the average\r\n",
    "\r\n",
    "::: note\r\n",
    "::: title\r\n",
    "Note\r\n",
    ":::\r\n",
    "\r\n",
    "This example requires DPF 4.0 (Ansys 2022R2) or above. For more\r\n",
    "information, see `ref_compatibility`{.interpreted-text role=\"ref\"}.\r\n",
    ":::\r\n"
   ]
  },
  {
   "cell_type": "markdown",
   "metadata": {},
   "source": [
    "# Create the plug-in package\r\n",
    "\r\n",
    "Each operator implementation derives from the\r\n",
    "`ansys.dpf.core.custom_operator.CustomOperatorBase`{.interpreted-text\r\n",
    "role=\"class\"} class and a call to the\r\n",
    "`ansys.dpf.core.custom_operator.record_operator`{.interpreted-text\r\n",
    "role=\"py:func\"} method, which records the operators of the plug-in\r\n",
    "package.\r\n",
    "\r\n",
    "Download the `average_filter_plugin` plug-in package that has already\r\n",
    "been created for you.\r\n"
   ]
  },
  {
   "cell_type": "code",
   "execution_count": 1,
   "metadata": {
    "collapsed": false,
    "execution": {
     "iopub.execute_input": "2024-05-19T04:59:14.274099Z",
     "iopub.status.busy": "2024-05-19T04:59:14.274099Z",
     "iopub.status.idle": "2024-05-19T04:59:15.467384Z",
     "shell.execute_reply": "2024-05-19T04:59:15.467384Z"
    }
   },
   "outputs": [
    {
     "name": "stdout",
     "output_type": "stream",
     "text": [
      "\u001b[1m average_filter_plugin\n",
      "\u001b[1m __init__.py:\n",
      " \u001b[0m\n",
      "\t\t\tfrom average_filter_plugin.operators_loader import load_operators\n",
      "\n",
      "\n",
      "\n",
      "\n",
      "\u001b[1m operators.py:\n",
      " \u001b[0m\n",
      "\t\t\tfrom ansys.dpf.core.custom_operator import CustomOperatorBase\n",
      "\n",
      "\t\t\tfrom ansys.dpf.core.operator_specification import CustomSpecification, PinSpecification, SpecificationProperties\n",
      "\n",
      "\t\t\tfrom ansys.dpf import core as dpf\n",
      "\n",
      "\t\t\tfrom average_filter_plugin import common\n",
      "\n",
      "\t\t\t\n",
      "\n",
      "\t\t\t\n",
      "\n",
      "\t\t\tclass IdsWithDataHigherThanAverage(CustomOperatorBase):\n",
      "\n",
      "\t\t\t    def run(self):\n",
      "\n",
      "\t\t\t        field = self.get_input(0, dpf.Field)\n",
      "\n",
      "\t\t\t        average = common.compute_average_of_field(field)\n",
      "\n",
      "\t\t\t        ids_in = field.scoping.ids\n",
      "\n",
      "\t\t\t        data_in = field.data\n",
      "\n",
      "\t\t\t        out = []\n",
      "\n",
      "\t\t\t        for i, d in enumerate(data_in):\n",
      "\n",
      "\t\t\t            if d >= average:\n",
      "\n",
      "\t\t\t                out.append(ids_in[i])\n",
      "\n",
      "\t\t\t        scoping_out = dpf.Scoping(ids=out, location=field.scoping.location)\n",
      "\n",
      "\t\t\t        self.set_output(0, scoping_out)\n",
      "\n",
      "\t\t\t        self.set_succeeded()\n",
      "\n",
      "\t\t\t\n",
      "\n",
      "\t\t\t    @property\n",
      "\n",
      "\t\t\t    def specification(self):\n",
      "\n",
      "\t\t\t        spec = CustomSpecification(\"Creates a scoping with all the ids having data higher or equal \"\n",
      "\n",
      "\t\t\t                                   \"to the average value of the scalar field's data in input.\")\n",
      "\n",
      "\t\t\t        spec.inputs = {\n",
      "\n",
      "\t\t\t            0: PinSpecification(\"field\", type_names=dpf.Field, document=\"scalar Field.\"),\n",
      "\n",
      "\t\t\t        }\n",
      "\n",
      "\t\t\t        spec.outputs = {\n",
      "\n",
      "\t\t\t            0: PinSpecification(\"scoping\", type_names=dpf.Scoping),\n",
      "\n",
      "\t\t\t        }\n",
      "\n",
      "\t\t\t        spec.properties = SpecificationProperties(user_name=\"ids with data higher than average\", category=\"logic\")\n",
      "\n",
      "\t\t\t        return spec\n",
      "\n",
      "\t\t\t\n",
      "\n",
      "\t\t\t    @property\n",
      "\n",
      "\t\t\t    def name(self):\n",
      "\n",
      "\t\t\t        return \"ids_with_data_higher_than_average\"\n",
      "\n",
      "\t\t\t\n",
      "\n",
      "\t\t\t\n",
      "\n",
      "\t\t\tclass IdsWithDataLowerThanAverage(CustomOperatorBase):\n",
      "\n",
      "\t\t\t    def run(self):\n",
      "\n",
      "\t\t\t        field = self.get_input(0, dpf.Field)\n",
      "\n",
      "\t\t\t        average = common.compute_average_of_field(field)\n",
      "\n",
      "\t\t\t        ids_in = field.scoping.ids\n",
      "\n",
      "\t\t\t        data_in = field.data\n",
      "\n",
      "\t\t\t        out = []\n",
      "\n",
      "\t\t\t        for i, d in enumerate(data_in):\n",
      "\n",
      "\t\t\t            if d <= average:\n",
      "\n",
      "\t\t\t                out.append(ids_in[i])\n",
      "\n",
      "\t\t\t        scoping_out = dpf.Scoping(ids=out, location=field.scoping.location)\n",
      "\n",
      "\t\t\t        self.set_output(0, scoping_out)\n",
      "\n",
      "\t\t\t        self.set_succeeded()\n",
      "\n",
      "\t\t\t\n",
      "\n",
      "\t\t\t    @property\n",
      "\n",
      "\t\t\t    def specification(self):\n",
      "\n",
      "\t\t\t        spec = CustomSpecification(\"Creates a scoping with all the ids having data lower or equal \"\n",
      "\n",
      "\t\t\t                                   \"to the average value of the scalar field's data in input.\")\n",
      "\n",
      "\t\t\t        spec.inputs = {\n",
      "\n",
      "\t\t\t            0: PinSpecification(\"field\", type_names=dpf.Field, document=\"scalar Field.\"),\n",
      "\n",
      "\t\t\t        }\n",
      "\n",
      "\t\t\t        spec.outputs = {\n",
      "\n",
      "\t\t\t            0: PinSpecification(\"scoping\", type_names=dpf.Scoping),\n",
      "\n",
      "\t\t\t        }\n",
      "\n",
      "\t\t\t        spec.properties = SpecificationProperties(user_name=\"ids with data lower than average\", category=\"logic\")\n",
      "\n",
      "\t\t\t        return spec\n",
      "\n",
      "\t\t\t\n",
      "\n",
      "\t\t\t    @property\n",
      "\n",
      "\t\t\t    def name(self):\n",
      "\n",
      "\t\t\t        return \"ids_with_data_lower_than_average\"\n",
      "\n",
      "\n",
      "\n",
      "\n",
      "\u001b[1m operators_loader.py:\n",
      " \u001b[0m\n",
      "\t\t\tfrom average_filter_plugin import operators\n",
      "\n",
      "\t\t\tfrom ansys.dpf.core.custom_operator import record_operator\n",
      "\n",
      "\t\t\t\n",
      "\n",
      "\t\t\t\n",
      "\n",
      "\t\t\tdef load_operators(*args):\n",
      "\n",
      "\t\t\t    record_operator(operators.IdsWithDataHigherThanAverage, *args)\n",
      "\n",
      "\t\t\t    record_operator(operators.IdsWithDataLowerThanAverage, *args)\n",
      "\n",
      "\n",
      "\n",
      "\n",
      "\u001b[1m common.py:\n",
      " \u001b[0m\n",
      "\t\t\timport numpy\n",
      "\n",
      "\t\t\t\n",
      "\n",
      "\t\t\t\n",
      "\n",
      "\t\t\tdef compute_average_of_field(field):\n",
      "\n",
      "\t\t\t    return numpy.average(field.data)\n",
      "\n",
      "\n",
      "\n",
      "\n"
     ]
    }
   ],
   "source": [
    "import os\n",
    "\n",
    "from ansys.dpf.core import examples\n",
    "from ansys.dpf import core as dpf\n",
    "\n",
    "\n",
    "print(\"\\033[1m average_filter_plugin\")\n",
    "file_list = [\"__init__.py\", \"operators.py\", \"operators_loader.py\", \"common.py\"]\n",
    "plugin_folder = None\n",
    "GITHUB_SOURCE_URL = (\n",
    "    \"https://github.com/ansys/pydpf-core/raw/\"\n",
    "    \"examples/first_python_plugins/python_plugins/average_filter_plugin\"\n",
    ")\n",
    "\n",
    "for file in file_list:\n",
    "    EXAMPLE_FILE = GITHUB_SOURCE_URL + \"/average_filter_plugin/\" + file\n",
    "    operator_file_path = examples.downloads._retrieve_file(\n",
    "        EXAMPLE_FILE, file, \"python_plugins/average_filter_plugin\"\n",
    "    )\n",
    "    plugin_folder = os.path.dirname(operator_file_path)\n",
    "    print(f\"\\033[1m {file}:\\n \\033[0m\")\n",
    "    with open(operator_file_path, \"r\") as f:\n",
    "        for line in f.readlines():\n",
    "            print(\"\\t\\t\\t\" + line)\n",
    "    print(\"\\n\\n\")"
   ]
  },
  {
   "cell_type": "markdown",
   "metadata": {},
   "source": [
    "# Load the plug-in package\r\n",
    "\r\n",
    "You use the function\r\n",
    "`ansys.dpf.core.core.load_library`{.interpreted-text role=\"py:func\"} to\r\n",
    "load the plug-in package.\r\n",
    "\r\n",
    "-   The first argument is the path to the directory where the plug-in\r\n",
    "    package is located.\r\n",
    "-   The second argument is `py_<package>`, where `<package>` is the name\r\n",
    "    identifying the plug-in package.\r\n",
    "-   The third argument is the name of the function exposed in the\r\n",
    "    `__init__` file for the plug-in package that is used to record\r\n",
    "    operators.\r\n"
   ]
  },
  {
   "cell_type": "code",
   "execution_count": 2,
   "metadata": {
    "collapsed": false,
    "execution": {
     "iopub.execute_input": "2024-05-19T04:59:15.467384Z",
     "iopub.status.busy": "2024-05-19T04:59:15.467384Z",
     "iopub.status.idle": "2024-05-19T04:59:16.867210Z",
     "shell.execute_reply": "2024-05-19T04:59:16.867032Z"
    }
   },
   "outputs": [
    {
     "data": {
      "text/plain": [
       "'py_average_filter successfully loaded'"
      ]
     },
     "execution_count": 2,
     "metadata": {},
     "output_type": "execute_result"
    }
   ],
   "source": [
    "import os\n",
    "\n",
    "from ansys.dpf import core as dpf\n",
    "from ansys.dpf.core import examples\n",
    "\n",
    "# Python plugins are not supported in process.\n",
    "dpf.start_local_server(config=dpf.AvailableServerConfigs.GrpcServer)\n",
    "\n",
    "tmp = dpf.make_tmp_dir_server()\n",
    "dpf.upload_files_in_folder(dpf.path_utilities.join(tmp, \"average_filter_plugin\"), plugin_folder)\n",
    "dpf.load_library(\n",
    "    os.path.join(dpf.path_utilities.join(tmp, \"average_filter_plugin\")),\n",
    "    \"py_average_filter\",\n",
    "    \"load_operators\",\n",
    ")"
   ]
  },
  {
   "cell_type": "markdown",
   "metadata": {},
   "source": [
    "Instantiate the operator.\r\n"
   ]
  },
  {
   "cell_type": "code",
   "execution_count": 3,
   "metadata": {
    "collapsed": false,
    "execution": {
     "iopub.execute_input": "2024-05-19T04:59:16.868215Z",
     "iopub.status.busy": "2024-05-19T04:59:16.868215Z",
     "iopub.status.idle": "2024-05-19T04:59:16.882772Z",
     "shell.execute_reply": "2024-05-19T04:59:16.882772Z"
    }
   },
   "outputs": [],
   "source": [
    "new_operator = dpf.Operator(\"ids_with_data_lower_than_average\")"
   ]
  },
  {
   "cell_type": "markdown",
   "metadata": {},
   "source": [
    "# Connect a workflow\r\n",
    "\r\n",
    "Connect a workflow that computes the norm of the displacement to the\r\n",
    "`ids_with_data_lower_than_average` operator. Methods of the\r\n",
    "`ids_with_data_lower_than_average` class are dynamically added because\r\n",
    "specifications for the operator are defined in the plug-in package.\r\n"
   ]
  },
  {
   "cell_type": "markdown",
   "metadata": {},
   "source": [
    "::: graphviz\r\n",
    "\r\n",
    "digraph foo {\r\n",
    "\r\n",
    ":   graph \\[pad=\\\"0.5\\\", nodesep=\\\"0.3\\\", ranksep=\\\"0.3\\\"\\] node\r\n",
    "    \\[shape=box, style=filled, fillcolor=\\\"#ffcc00\\\", margin=\\\"0\\\"\\];\r\n",
    "    rankdir=LR; splines=line; ds \\[label=\\\"ds\\\", shape=box,\r\n",
    "    style=filled, fillcolor=cadetblue2\\]; ds -\\> displacement\r\n",
    "    \\[style=dashed\\]; displacement -\\> norm; norm -\\>\r\n",
    "    ids_with_data_lower_than_average;\r\n",
    "\r\n",
    "}\r\n",
    ":::\r\n"
   ]
  },
  {
   "cell_type": "markdown",
   "metadata": {},
   "source": [
    "# Use the operator\r\n"
   ]
  },
  {
   "cell_type": "code",
   "execution_count": 4,
   "metadata": {
    "collapsed": false,
    "execution": {
     "iopub.execute_input": "2024-05-19T04:59:16.888540Z",
     "iopub.status.busy": "2024-05-19T04:59:16.886288Z",
     "iopub.status.idle": "2024-05-19T04:59:16.930715Z",
     "shell.execute_reply": "2024-05-19T04:59:16.930715Z"
    }
   },
   "outputs": [
    {
     "name": "stdout",
     "output_type": "stream",
     "text": [
      "scoping in was: DPF  Scoping: \n",
      "  with Nodal location and 81 entities\n",
      "\n",
      "----------------------------------------------\n",
      "scoping out is: DPF  Scoping: \n",
      "  with Nodal location and 35 entities\n",
      "\n"
     ]
    }
   ],
   "source": [
    "ds = dpf.DataSources(dpf.upload_file_in_tmp_folder(examples.find_static_rst()))\n",
    "displacement = dpf.operators.result.displacement(data_sources=ds)\n",
    "norm = dpf.operators.math.norm(displacement)\n",
    "new_operator.inputs.connect(norm)\n",
    "\n",
    "\n",
    "new_scoping = new_operator.outputs.scoping()\n",
    "print(\"scoping in was:\", norm.outputs.field().scoping)\n",
    "print(\"----------------------------------------------\")\n",
    "print(\"scoping out is:\", new_scoping)"
   ]
  }
 ],
 "metadata": {
  "kernelspec": {
   "display_name": "Python 3",
   "language": "python",
   "name": "python3"
  },
  "language_info": {
   "codemirror_mode": {
    "name": "ipython",
    "version": 3
   },
   "file_extension": ".py",
   "mimetype": "text/x-python",
   "name": "python",
   "nbconvert_exporter": "python",
   "pygments_lexer": "ipython3",
   "version": "3.10.1"
  }
 },
 "nbformat": 4,
 "nbformat_minor": 0
}

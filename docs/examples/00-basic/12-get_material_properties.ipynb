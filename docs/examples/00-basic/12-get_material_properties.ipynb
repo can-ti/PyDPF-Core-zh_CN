{
 "cells": [
  {
   "cell_type": "markdown",
   "metadata": {},
   "source": [
    "# Get material properties from the result file {#ref_get_material_properties}\r\n",
    "\r\n",
    "Material properties are assigned to each element in APDL and by default\r\n",
    "they are written out in the APDL result file. This example shows how you\r\n",
    "can extract material properties of each element using PyDPF-Core.\r\n"
   ]
  },
  {
   "cell_type": "code",
   "execution_count": 1,
   "metadata": {
    "collapsed": false,
    "execution": {
     "iopub.execute_input": "2024-05-19T03:58:56.863848Z",
     "iopub.status.busy": "2024-05-19T03:58:56.863848Z",
     "iopub.status.idle": "2024-05-19T03:58:58.041347Z",
     "shell.execute_reply": "2024-05-19T03:58:58.041347Z"
    }
   },
   "outputs": [],
   "source": [
    "# Import necessary modules\n",
    "from ansys.dpf import core as dpf\n",
    "from ansys.dpf.core import examples"
   ]
  },
  {
   "cell_type": "markdown",
   "metadata": {},
   "source": [
    "Create a model object to establish a connection with an example result\r\n",
    "file.\r\n"
   ]
  },
  {
   "cell_type": "code",
   "execution_count": 2,
   "metadata": {
    "collapsed": false,
    "execution": {
     "iopub.execute_input": "2024-05-19T03:58:58.041347Z",
     "iopub.status.busy": "2024-05-19T03:58:58.041347Z",
     "iopub.status.idle": "2024-05-19T03:58:58.126629Z",
     "shell.execute_reply": "2024-05-19T03:58:58.126629Z"
    }
   },
   "outputs": [],
   "source": [
    "model = dpf.Model(examples.find_simple_bar())"
   ]
  },
  {
   "cell_type": "markdown",
   "metadata": {},
   "source": [
    "Get the\r\n",
    "`meshed_region <ansys.dpf.core.meshed_region.MeshedRegion>`{.interpreted-text\r\n",
    "role=\"class\"} from model\\'s metadata.\r\n"
   ]
  },
  {
   "cell_type": "code",
   "execution_count": 3,
   "metadata": {
    "collapsed": false,
    "execution": {
     "iopub.execute_input": "2024-05-19T03:58:58.128604Z",
     "iopub.status.busy": "2024-05-19T03:58:58.128604Z",
     "iopub.status.idle": "2024-05-19T03:58:58.148295Z",
     "shell.execute_reply": "2024-05-19T03:58:58.148295Z"
    }
   },
   "outputs": [
    {
     "name": "stdout",
     "output_type": "stream",
     "text": [
      "DPF  Meshed Region: \n",
      "  3751 nodes \n",
      "  3000 elements \n",
      "  Unit: m \n",
      "  With solid (3D) elements\n"
     ]
    }
   ],
   "source": [
    "mesh = model.metadata.meshed_region\n",
    "print(mesh)"
   ]
  },
  {
   "cell_type": "markdown",
   "metadata": {},
   "source": [
    "See available properties in the `meshed_region\r\n",
    "<ansys.dpf.core.meshed_region.MeshedRegion>`{.interpreted-text\r\n",
    "role=\"class\"}.\r\n"
   ]
  },
  {
   "cell_type": "code",
   "execution_count": 4,
   "metadata": {
    "collapsed": false,
    "execution": {
     "iopub.execute_input": "2024-05-19T03:58:58.151384Z",
     "iopub.status.busy": "2024-05-19T03:58:58.151384Z",
     "iopub.status.idle": "2024-05-19T03:58:58.164372Z",
     "shell.execute_reply": "2024-05-19T03:58:58.164372Z"
    }
   },
   "outputs": [
    {
     "name": "stdout",
     "output_type": "stream",
     "text": [
      "['connectivity', 'elprops', 'eltype', 'apdl_element_type', 'section', 'mat']\n"
     ]
    }
   ],
   "source": [
    "print(mesh.available_property_fields)"
   ]
  },
  {
   "cell_type": "markdown",
   "metadata": {},
   "source": [
    "Get all material properties.\r\n"
   ]
  },
  {
   "cell_type": "code",
   "execution_count": 5,
   "metadata": {
    "collapsed": false,
    "execution": {
     "iopub.execute_input": "2024-05-19T03:58:58.164372Z",
     "iopub.status.busy": "2024-05-19T03:58:58.164372Z",
     "iopub.status.idle": "2024-05-19T03:58:58.180342Z",
     "shell.execute_reply": "2024-05-19T03:58:58.180342Z"
    }
   },
   "outputs": [],
   "source": [
    "mats = mesh.property_field(\"mat\")"
   ]
  },
  {
   "cell_type": "markdown",
   "metadata": {},
   "source": [
    "Use the DPF operator `mapdl_material_properties\r\n",
    "<ansys.dpf.core.operators.result.mapdl_material_properties.mapdl_material_properties>`{.interpreted-text\r\n",
    "role=\"class\"} to extract data for the \\# materials - [mats]{.title-ref}.\r\n",
    "For the input `properties_name`, you need the correct material property\r\n",
    "string. To see which strings are supported, you can print the operator\r\n",
    "help.\r\n"
   ]
  },
  {
   "cell_type": "code",
   "execution_count": 6,
   "metadata": {
    "collapsed": false,
    "execution": {
     "iopub.execute_input": "2024-05-19T03:58:58.183750Z",
     "iopub.status.busy": "2024-05-19T03:58:58.183750Z",
     "iopub.status.idle": "2024-05-19T03:58:58.196181Z",
     "shell.execute_reply": "2024-05-19T03:58:58.196181Z"
    }
   },
   "outputs": [],
   "source": [
    "mat_prop = model.operator(\"mapdl_material_properties\")\n",
    "mat_prop.inputs.materials.connect(mats)"
   ]
  },
  {
   "cell_type": "markdown",
   "metadata": {},
   "source": [
    "For the input pin `properties_name`, you need the correct material\r\n",
    "property string. To see which strings are supported, you can print the\r\n",
    "operator help.\r\n"
   ]
  },
  {
   "cell_type": "code",
   "execution_count": 7,
   "metadata": {
    "collapsed": false,
    "execution": {
     "iopub.execute_input": "2024-05-19T03:58:58.198111Z",
     "iopub.status.busy": "2024-05-19T03:58:58.198111Z",
     "iopub.status.idle": "2024-05-19T03:58:58.211918Z",
     "shell.execute_reply": "2024-05-19T03:58:58.211918Z"
    }
   },
   "outputs": [
    {
     "name": "stdout",
     "output_type": "stream",
     "text": [
      "DPF mapdl_material_properties Operator: \n",
      "  Read the values of the properties of a material for a given materials property field(property field that contains materials information for each element of a mesh).It returns a fields container containing a field for each material property, with only one value per material.The following keys can be used: Young's modulus (keys: EX, EY, EZ), Poisson's ratio (keys: NUXY, NUYZ, NUXZ), Shear Modulus (keys: GXY, GYZ, GXZ),Coefficient of Thermal Expansion (keys: ALPX, ALPY, ALPZ), Volumic Mass (key: DENS), second Lame's coefficient (key: MU),Damping coefficient (key: DAMP), thermal Conductivity (keys: KXX, KYY, KZZ), Resistivity (keys: RSVX, RSVY, RSVZ),Specific heat in constant volume (key: C), Film coefficient (key: HF), Viscosity (key: VISC), Emissivity (key: EMIS). \n",
      "  Inputs:\n",
      "         properties_name [string, vector<string>] \n",
      "         materials [property_field]: Property field that contains a material id per element. \n",
      "         streams_container [streams_container] \n",
      "         data_sources [data_sources] \n",
      "  Outputs:\n",
      "         properties_value [fields_container] \n",
      "\n"
     ]
    }
   ],
   "source": [
    "print(mat_prop)"
   ]
  },
  {
   "cell_type": "markdown",
   "metadata": {},
   "source": [
    "To extract the Young\\'s modulus for element ID `1`, first we need to get\r\n",
    "the mat_id for EID `1`.\r\n"
   ]
  },
  {
   "cell_type": "code",
   "execution_count": 8,
   "metadata": {
    "collapsed": false,
    "execution": {
     "iopub.execute_input": "2024-05-19T03:58:58.213568Z",
     "iopub.status.busy": "2024-05-19T03:58:58.213568Z",
     "iopub.status.idle": "2024-05-19T03:58:58.227587Z",
     "shell.execute_reply": "2024-05-19T03:58:58.227587Z"
    }
   },
   "outputs": [],
   "source": [
    "mat_id = mats.get_entity_data_by_id(1)"
   ]
  },
  {
   "cell_type": "markdown",
   "metadata": {},
   "source": [
    "And then use the mat_id get the material property.\r\n"
   ]
  },
  {
   "cell_type": "code",
   "execution_count": 9,
   "metadata": {
    "collapsed": false,
    "execution": {
     "iopub.execute_input": "2024-05-19T03:58:58.229972Z",
     "iopub.status.busy": "2024-05-19T03:58:58.229972Z",
     "iopub.status.idle": "2024-05-19T03:58:58.243331Z",
     "shell.execute_reply": "2024-05-19T03:58:58.243331Z"
    }
   },
   "outputs": [
    {
     "name": "stdout",
     "output_type": "stream",
     "text": [
      "[2.e+11]\n"
     ]
    }
   ],
   "source": [
    "mat_prop.inputs.properties_name.connect(\"EX\")\n",
    "mat_field = mat_prop.outputs.properties_value.get_data()[0]\n",
    "print(mat_field.get_entity_data_by_id(mat_id[0]))"
   ]
  },
  {
   "cell_type": "markdown",
   "metadata": {},
   "source": [
    "Extract Poisson\\'s ratio for element ID `1`.\r\n"
   ]
  },
  {
   "cell_type": "code",
   "execution_count": 10,
   "metadata": {
    "collapsed": false,
    "execution": {
     "iopub.execute_input": "2024-05-19T03:58:58.245926Z",
     "iopub.status.busy": "2024-05-19T03:58:58.245926Z",
     "iopub.status.idle": "2024-05-19T03:58:58.259332Z",
     "shell.execute_reply": "2024-05-19T03:58:58.259332Z"
    }
   },
   "outputs": [
    {
     "name": "stdout",
     "output_type": "stream",
     "text": [
      "[0.3]\n"
     ]
    }
   ],
   "source": [
    "mat_prop.inputs.properties_name.connect(\"NUXY\")\n",
    "mat_field = mat_prop.outputs.properties_value.get_data()[0]\n",
    "print(mat_field.get_entity_data_by_id(mat_id[0]))"
   ]
  }
 ],
 "metadata": {
  "kernelspec": {
   "display_name": "Python 3",
   "language": "python",
   "name": "python3"
  },
  "language_info": {
   "codemirror_mode": {
    "name": "ipython",
    "version": 3
   },
   "file_extension": ".py",
   "mimetype": "text/x-python",
   "name": "python",
   "nbconvert_exporter": "python",
   "pygments_lexer": "ipython3",
   "version": "3.10.1"
  }
 },
 "nbformat": 4,
 "nbformat_minor": 0
}

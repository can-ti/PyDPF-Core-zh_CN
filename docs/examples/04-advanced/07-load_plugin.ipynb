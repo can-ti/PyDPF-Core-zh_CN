{
 "cells": [
  {
   "cell_type": "markdown",
   "metadata": {},
   "source": [
    "# Load plugin {#ref_load_plugin}\r\n",
    "\r\n",
    "This example shows how to load a plugin that is not loaded\r\n",
    "automatically.\r\n"
   ]
  },
  {
   "cell_type": "markdown",
   "metadata": {},
   "source": [
    "Import DPF-Core:\r\n"
   ]
  },
  {
   "cell_type": "code",
   "execution_count": 1,
   "metadata": {
    "collapsed": false,
    "execution": {
     "iopub.execute_input": "2024-05-19T04:00:09.382885Z",
     "iopub.status.busy": "2024-05-19T04:00:09.382885Z",
     "iopub.status.idle": "2024-05-19T04:00:10.702584Z",
     "shell.execute_reply": "2024-05-19T04:00:10.701028Z"
    }
   },
   "outputs": [],
   "source": [
    "from ansys.dpf import core as dpf\n",
    "\n",
    "\n",
    "server = dpf.global_server()"
   ]
  },
  {
   "cell_type": "markdown",
   "metadata": {},
   "source": [
    "Create a base service for loading a plugin:\r\n"
   ]
  },
  {
   "cell_type": "code",
   "execution_count": 2,
   "metadata": {
    "collapsed": false,
    "execution": {
     "iopub.execute_input": "2024-05-19T04:00:10.704208Z",
     "iopub.status.busy": "2024-05-19T04:00:10.704208Z",
     "iopub.status.idle": "2024-05-19T04:00:10.718160Z",
     "shell.execute_reply": "2024-05-19T04:00:10.716913Z"
    }
   },
   "outputs": [],
   "source": [
    "if server.os == \"posix\":\n",
    "    dpf.core.load_library(\"libAns.Dpf.Math.so\", \"math_operators\")\n",
    "else:\n",
    "    dpf.core.load_library(\"Ans.Dpf.Math.dll\", \"math_operators\")"
   ]
  },
  {
   "cell_type": "markdown",
   "metadata": {},
   "source": [
    "Math operators are now loaded and accessible in\r\n",
    "`ansys.dpf.core.operators`:\r\n"
   ]
  },
  {
   "cell_type": "code",
   "execution_count": 3,
   "metadata": {
    "collapsed": false,
    "execution": {
     "iopub.execute_input": "2024-05-19T04:00:10.719722Z",
     "iopub.status.busy": "2024-05-19T04:00:10.719722Z",
     "iopub.status.idle": "2024-05-19T04:00:10.744419Z",
     "shell.execute_reply": "2024-05-19T04:00:10.744419Z"
    }
   },
   "outputs": [],
   "source": [
    "from ansys.dpf.core import operators as ops\n",
    "\n",
    "math_op = ops.math.fft_eval()"
   ]
  }
 ],
 "metadata": {
  "kernelspec": {
   "display_name": "Python 3",
   "language": "python",
   "name": "python3"
  },
  "language_info": {
   "codemirror_mode": {
    "name": "ipython",
    "version": 3
   },
   "file_extension": ".py",
   "mimetype": "text/x-python",
   "name": "python",
   "nbconvert_exporter": "python",
   "pygments_lexer": "ipython3",
   "version": "3.10.1"
  }
 },
 "nbformat": 4,
 "nbformat_minor": 0
}

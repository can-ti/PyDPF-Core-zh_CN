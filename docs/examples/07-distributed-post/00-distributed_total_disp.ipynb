{
 "cells": [
  {
   "cell_type": "markdown",
   "metadata": {},
   "source": [
    "# Postprocessing of displacement on distributed processes {#ref_distributed_total_disp}\r\n",
    "\r\n",
    "This diagram helps you to understand this example. It shows the operator\r\n",
    "chain that is used to compute the final result.\r\n",
    "\r\n",
    "::: graphviz\r\n",
    "\r\n",
    "digraph foo {\r\n",
    "\r\n",
    ":   graph \\[pad=\\\"0\\\", nodesep=\\\"0.3\\\", ranksep=\\\"0.3\\\"\\] node\r\n",
    "    \\[shape=box, style=filled, fillcolor=\\\"#ffcc00\\\", margin=\\\"0\\\"\\];\r\n",
    "    rankdir=LR; splines=line;\r\n",
    "\r\n",
    "    disp01 \\[label=\\\"displacement\\\"\\]; disp02\r\n",
    "    \\[label=\\\"displacement\\\"\\]; norm01 \\[label=\\\"norm\\\"\\]; norm02\r\n",
    "    \\[label=\\\"norm\\\"\\];\r\n",
    "\r\n",
    "    subgraph cluster_1 {\r\n",
    "\r\n",
    "    :   ds01 \\[label=\\\"data_src\\\", shape=box, style=filled,\r\n",
    "        fillcolor=cadetblue2\\];\r\n",
    "\r\n",
    "        ds01 -\\> disp01 \\[style=dashed\\]; disp01 -\\> norm01;\r\n",
    "\r\n",
    "        label=\\\"Server 1\\\"; style=filled; fillcolor=lightgrey;\r\n",
    "\r\n",
    "    }\r\n",
    "\r\n",
    "    subgraph cluster_2 {\r\n",
    "\r\n",
    "    :   ds02 \\[label=\\\"data_src\\\", shape=box, style=filled,\r\n",
    "        fillcolor=cadetblue2\\];\r\n",
    "\r\n",
    "        ds02 -\\> disp02 \\[style=dashed\\]; disp02 -\\> norm02;\r\n",
    "\r\n",
    "        label=\\\"Server 2\\\"; style=filled; fillcolor=lightgrey;\r\n",
    "\r\n",
    "    }\r\n",
    "\r\n",
    "    norm01 -\\> \\\"merge\\\"; norm02 -\\> \\\"merge\\\";\r\n",
    "\r\n",
    "}\r\n",
    ":::\r\n"
   ]
  },
  {
   "cell_type": "markdown",
   "metadata": {},
   "source": [
    "Import the `dpf-core` module and its examples files.\r\n"
   ]
  },
  {
   "cell_type": "code",
   "execution_count": 1,
   "metadata": {
    "collapsed": false,
    "execution": {
     "iopub.execute_input": "2024-05-19T04:58:38.537494Z",
     "iopub.status.busy": "2024-05-19T04:58:38.537494Z",
     "iopub.status.idle": "2024-05-19T04:58:39.815824Z",
     "shell.execute_reply": "2024-05-19T04:58:39.815824Z"
    }
   },
   "outputs": [],
   "source": [
    "import os\n",
    "from ansys.dpf import core as dpf\n",
    "from ansys.dpf.core import examples\n",
    "from ansys.dpf.core import operators as ops"
   ]
  },
  {
   "cell_type": "markdown",
   "metadata": {},
   "source": [
    "Configure the servers. Make a list of IP addresses and port numbers that\r\n",
    "DPF servers start and listen on. Operator instances are created on each\r\n",
    "of these servers so that each can address a different result file.\r\n",
    "\r\n",
    "This example postprocesses an analysis distributed in two files.\r\n",
    "Consequently, it requires two remote processes.\r\n",
    "\r\n",
    "To make it easier, this example starts local servers. However, you can\r\n",
    "connect to any existing servers on your network.\r\n"
   ]
  },
  {
   "cell_type": "code",
   "execution_count": 2,
   "metadata": {
    "collapsed": false,
    "execution": {
     "iopub.execute_input": "2024-05-19T04:58:39.818863Z",
     "iopub.status.busy": "2024-05-19T04:58:39.818863Z",
     "iopub.status.idle": "2024-05-19T04:58:40.436363Z",
     "shell.execute_reply": "2024-05-19T04:58:40.434984Z"
    }
   },
   "outputs": [],
   "source": [
    "config = dpf.AvailableServerConfigs.InProcessServer\n",
    "if \"DPF_DOCKER\" in os.environ.keys():\n",
    "    # If running DPF on Docker, you cannot start an InProcessServer\n",
    "    config = dpf.AvailableServerConfigs.GrpcServer\n",
    "global_server = dpf.start_local_server(as_global=True, config=config)\n",
    "\n",
    "remote_servers = [\n",
    "    dpf.start_local_server(as_global=False, config=dpf.AvailableServerConfigs.GrpcServer),\n",
    "    dpf.start_local_server(as_global=False, config=dpf.AvailableServerConfigs.GrpcServer),\n",
    "]\n",
    "ips = [remote_server.ip for remote_server in remote_servers]\n",
    "ports = [remote_server.port for remote_server in remote_servers]"
   ]
  },
  {
   "cell_type": "markdown",
   "metadata": {},
   "source": [
    "Print the IP addresses and ports.\r\n"
   ]
  },
  {
   "cell_type": "code",
   "execution_count": 3,
   "metadata": {
    "collapsed": false,
    "execution": {
     "iopub.execute_input": "2024-05-19T04:58:40.436363Z",
     "iopub.status.busy": "2024-05-19T04:58:40.436363Z",
     "iopub.status.idle": "2024-05-19T04:58:40.450878Z",
     "shell.execute_reply": "2024-05-19T04:58:40.450878Z"
    }
   },
   "outputs": [
    {
     "name": "stdout",
     "output_type": "stream",
     "text": [
      "ips: ['127.0.0.1', '127.0.0.1']\n",
      "ports: [50054, 50055]\n"
     ]
    }
   ],
   "source": [
    "print(\"ips:\", ips)\n",
    "print(\"ports:\", ports)"
   ]
  },
  {
   "cell_type": "markdown",
   "metadata": {},
   "source": [
    "Send files to the temporary directory if they are not in shared memory.\r\n"
   ]
  },
  {
   "cell_type": "code",
   "execution_count": 4,
   "metadata": {
    "collapsed": false,
    "execution": {
     "iopub.execute_input": "2024-05-19T04:58:40.450878Z",
     "iopub.status.busy": "2024-05-19T04:58:40.450878Z",
     "iopub.status.idle": "2024-05-19T04:58:40.482131Z",
     "shell.execute_reply": "2024-05-19T04:58:40.482131Z"
    }
   },
   "outputs": [],
   "source": [
    "files = examples.download_distributed_files(return_local_path=True)\n",
    "server_file_paths = [\n",
    "    dpf.upload_file_in_tmp_folder(files[0], server=remote_servers[0]),\n",
    "    dpf.upload_file_in_tmp_folder(files[1], server=remote_servers[1]),\n",
    "]"
   ]
  },
  {
   "cell_type": "markdown",
   "metadata": {},
   "source": [
    "# Create operators on each server\r\n",
    "\r\n",
    "On each server, create two operators, one for displacement computations\r\n",
    "and one for norm computations. Define their data sources:\r\n"
   ]
  },
  {
   "cell_type": "code",
   "execution_count": 5,
   "metadata": {
    "collapsed": false,
    "execution": {
     "iopub.execute_input": "2024-05-19T04:58:40.482131Z",
     "iopub.status.busy": "2024-05-19T04:58:40.482131Z",
     "iopub.status.idle": "2024-05-19T04:58:40.513455Z",
     "shell.execute_reply": "2024-05-19T04:58:40.513455Z"
    }
   },
   "outputs": [],
   "source": [
    "# - The displacement operator receives data from the data file in its respective\n",
    "#   server.\n",
    "# - The norm operator, which is chained to the displacement operator, receives\n",
    "#   input from the output of the displacement operator.\n",
    "#\n",
    "remote_operators = []\n",
    "for i, server in enumerate(remote_servers):\n",
    "    displacement = ops.result.displacement(server=server)\n",
    "    norm = ops.math.norm_fc(displacement, server=server)\n",
    "    remote_operators.append(norm)\n",
    "    ds = dpf.DataSources(server_file_paths[i], server=server)\n",
    "    displacement.inputs.data_sources(ds)"
   ]
  },
  {
   "cell_type": "markdown",
   "metadata": {},
   "source": [
    "# Create an operator to merge results\r\n",
    "\r\n",
    "Create the `merge_fields_containers` operator to merge the results.\r\n"
   ]
  },
  {
   "cell_type": "code",
   "execution_count": 6,
   "metadata": {
    "collapsed": false,
    "execution": {
     "iopub.execute_input": "2024-05-19T04:58:40.513455Z",
     "iopub.status.busy": "2024-05-19T04:58:40.513455Z",
     "iopub.status.idle": "2024-05-19T04:58:40.530519Z",
     "shell.execute_reply": "2024-05-19T04:58:40.529124Z"
    }
   },
   "outputs": [],
   "source": [
    "merge = ops.utility.merge_fields_containers()"
   ]
  },
  {
   "cell_type": "markdown",
   "metadata": {},
   "source": [
    "# Connect the operators together and get the output\r\n"
   ]
  },
  {
   "cell_type": "code",
   "execution_count": 7,
   "metadata": {
    "collapsed": false,
    "execution": {
     "iopub.execute_input": "2024-05-19T04:58:40.531048Z",
     "iopub.status.busy": "2024-05-19T04:58:40.531048Z",
     "iopub.status.idle": "2024-05-19T04:58:40.576725Z",
     "shell.execute_reply": "2024-05-19T04:58:40.576508Z"
    }
   },
   "outputs": [
    {
     "name": "stdout",
     "output_type": "stream",
     "text": [
      "DPF  Fields Container\n",
      "  with 1 field(s)\n",
      "  defined on labels: time \n",
      "\n",
      "  with:\n",
      "  - field 0 {time:  1} with Nodal location, 1 components and 432 entities.\n",
      "\n",
      "[0.]\n",
      "[10.03242272]\n"
     ]
    }
   ],
   "source": [
    "for i, server in enumerate(remote_servers):\n",
    "    merge.connect(i, remote_operators[i], 0)\n",
    "\n",
    "fc = merge.get_output(0, dpf.types.fields_container)\n",
    "print(fc)\n",
    "print(fc[0].min().data)\n",
    "print(fc[0].max().data)"
   ]
  }
 ],
 "metadata": {
  "kernelspec": {
   "display_name": "Python 3",
   "language": "python",
   "name": "python3"
  },
  "language_info": {
   "codemirror_mode": {
    "name": "ipython",
    "version": 3
   },
   "file_extension": ".py",
   "mimetype": "text/x-python",
   "name": "python",
   "nbconvert_exporter": "python",
   "pygments_lexer": "ipython3",
   "version": "3.10.1"
  }
 },
 "nbformat": 4,
 "nbformat_minor": 0
}
